{
 "cells": [
  {
   "cell_type": "markdown",
   "metadata": {},
   "source": [
    "# Plotting by Archimedes\n",
    "\n",
    "[Archimedes](http://archimedes.forge.ocamlcore.org/) is an OCaml library for plotting high-quality 2D graphs.\n",
    "You can embed graphs as PNG image in Jupyter notebooks.\n"
   ]
  },
  {
   "cell_type": "code",
   "execution_count": 1,
   "metadata": {},
   "outputs": [
    {
     "name": "stderr",
     "output_type": "stream",
     "text": [
      "/home/opam/.opam/4.05.0+trunk/lib/ocaml/unix.cma: loaded\n",
      "/home/opam/.opam/4.05.0+trunk/lib/easy-format: added to search path\n",
      "/home/opam/.opam/4.05.0+trunk/lib/easy-format/easy_format.cmo: loaded\n",
      "/home/opam/.opam/4.05.0+trunk/lib/biniou: added to search path\n",
      "/home/opam/.opam/4.05.0+trunk/lib/biniou/biniou.cma: loaded\n",
      "/home/opam/.opam/4.05.0+trunk/lib/yojson: added to search path\n",
      "/home/opam/.opam/4.05.0+trunk/lib/yojson/yojson.cmo: loaded\n",
      "/home/opam/.opam/4.05.0+trunk/lib/ocaml/str.cma: loaded\n",
      "/home/opam/.opam/4.05.0+trunk/lib/atd: added to search path\n",
      "/home/opam/.opam/4.05.0+trunk/lib/atd/atd.cma: loaded\n",
      "/home/opam/.opam/4.05.0+trunk/lib/atdgen: added to search path\n",
      "/home/opam/.opam/4.05.0+trunk/lib/atdgen/atdgen.cma: loaded\n",
      "/home/opam/.opam/4.05.0+trunk/lib/bytes: added to search path\n",
      "/home/opam/.opam/4.05.0+trunk/lib/result: added to search path\n",
      "/home/opam/.opam/4.05.0+trunk/lib/result/result.cma: loaded\n",
      "/home/opam/.opam/4.05.0+trunk/lib/lwt: added to search path\n",
      "/home/opam/.opam/4.05.0+trunk/lib/lwt/lwt.cma: loaded\n",
      "/home/opam/.opam/4.05.0+trunk/lib/lwt/lwt-log.cma: loaded\n",
      "/home/opam/.opam/4.05.0+trunk/lib/ocaml/bigarray.cma: loaded\n",
      "/home/opam/.opam/4.05.0+trunk/lib/lwt/lwt-unix.cma: loaded\n",
      "/home/opam/.opam/4.05.0+trunk/lib/ctypes: added to search path\n",
      "/home/opam/.opam/4.05.0+trunk/lib/ctypes/ctypes.cma: loaded\n",
      "/home/opam/.opam/4.05.0+trunk/lib/ctypes/ctypes-top.cma: loaded\n",
      "/home/opam/.opam/4.05.0+trunk/lib/ctypes/ctypes-foreign-base.cma: loaded\n",
      "/home/opam/.opam/4.05.0+trunk/lib/ctypes/ctypes-foreign-unthreaded.cma: loaded\n",
      "/home/opam/.opam/4.05.0+trunk/lib/iocaml-kernel: added to search path\n",
      "/home/opam/.opam/4.05.0+trunk/lib/iocaml-kernel/iocaml_lib.cma: loaded\n",
      "/home/opam/.opam/4.05.0+trunk/lib/cairo2: added to search path\n",
      "/home/opam/.opam/4.05.0+trunk/lib/cairo2/cairo2.cma: loaded\n",
      "/home/opam/.opam/4.05.0+trunk/lib/ocaml/dynlink.cma: loaded\n",
      "/home/opam/.opam/4.05.0+trunk/lib/ocaml/camlp4: added to search path\n",
      "/home/opam/.opam/4.05.0+trunk/lib/archimedes: added to search path\n",
      "/home/opam/.opam/4.05.0+trunk/lib/archimedes/archimedes_internals.cma: loaded\n",
      "/home/opam/.opam/4.05.0+trunk/lib/archimedes/archimedes_toploop.cma: loaded\n",
      "Module Archimedes loaded and aliased as A.\n",
      "/home/opam/.opam/4.05.0+trunk/lib/archimedes/archimedes_cairo.cma: loaded\n"
     ]
    }
   ],
   "source": [
    "#require \"iocaml-kernel\";;\n",
    "#require \"archimedes.cairo\";;"
   ]
  },
  {
   "cell_type": "code",
   "execution_count": 2,
   "metadata": {},
   "outputs": [
    {
     "data": {
      "text/html": [
       "<pre style=\"color:slategray;max-height:100px;overflow:hidden\" \n",
       "onclick=\"\n",
       "if (this.style.maxHeight === 'none') \n",
       "    this.style.maxHeight = '100px';\n",
       "else\n",
       "    this.style.maxHeight = 'none'; \n",
       "\">module R : sig  end\n",
       "</pre>"
      ]
     },
     "execution_count": 2,
     "metadata": {},
     "output_type": "execute_result"
    }
   ],
   "source": [
    "(* User-defined Archimedes backend \"iocaml\" *)\n",
    "module R = Archimedes.Backend.Register(struct\n",
    "  include Archimedes_cairo.B\n",
    "  let name = \"iocaml\"\n",
    "  let close ~options b =\n",
    "    Cairo.PNG.write_to_stream ~output:(output_string Iocaml.mime) (Cairo.get_target (Obj.magic b)) ;\n",
    "    close ~options b ; Iocaml.send_mime ~base64:true \"image/png\"\n",
    "end)"
   ]
  },
  {
   "cell_type": "code",
   "execution_count": 3,
   "metadata": {},
   "outputs": [
    {
     "data": {
      "image/png": "[encoded data removed]"
     },
     "metadata": {},
     "output_type": "display_data"
    },
    {
     "data": {
      "text/html": [
       "<pre style=\"color:slategray;max-height:100px;overflow:hidden\" \n",
       "onclick=\"\n",
       "if (this.style.maxHeight === 'none') \n",
       "    this.style.maxHeight = '100px';\n",
       "else\n",
       "    this.style.maxHeight = 'none'; \n",
       "\">- : unit = ()\n",
       "</pre>"
      ]
     },
     "execution_count": 3,
     "metadata": {},
     "output_type": "execute_result"
    }
   ],
   "source": [
    "let vp = A.init ~w:500. ~h:300. [\"iocaml\"] in\n",
    "A.Axes.box vp;\n",
    "A.fx vp sin 0. 10.;\n",
    "A.close vp"
   ]
  },
  {
   "cell_type": "code",
   "execution_count": null,
   "metadata": {
    "collapsed": true
   },
   "outputs": [],
   "source": []
  }
 ],
 "metadata": {
  "kernelspec": {
   "display_name": "OCaml 4.05.0+trunk",
   "language": "ocaml",
   "name": "iocaml-kernel"
  },
  "language_info": {
   "name": "ocaml",
   "version": "4.1.0"
  }
 },
 "nbformat": 4,
 "nbformat_minor": 2
}
