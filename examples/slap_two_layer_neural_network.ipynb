{
 "cells": [
  {
   "cell_type": "markdown",
   "metadata": {},
   "source": [
    "# slap_two_layer_neural_network\n",
    "\n",
    "We show implementation of a two-layer neural network by [Size Linear Algebra Library (SLAP)](http://akabe.github.io/slap/).\n",
    "It is a high-level wrapper of [Lacaml](https://github.com/mmottl/lacaml), a binding of linear algebra libraries LAPACK and BLAS,\n",
    "with type-level size checking for vector and matrix operations.\n",
    "SLAP helps your debug by detecting inconsistency of dimensions\n",
    "\n",
    "- **at compile time** (instead of runtime) and\n",
    "- **at higher level** (i.e., at a caller site rather than somewhere deep inside of a call stack).\n",
    "\n",
    "For example, addition of vectors of different sizes causes a type error at compile time, and dynamic errors such as exceptions do not happen. For most high-level matrix operations, the consistency of sizes is verified statically. (Certain low-level operations, like accesses to elements by indices, need dynamic checks.)"
   ]
  },
  {
   "cell_type": "code",
   "execution_count": 1,
   "metadata": {
    "scrolled": true
   },
   "outputs": [
    {
     "name": "stderr",
     "output_type": "stream",
     "text": [
      "/home/opam/.opam/4.04.1/lib/base/caml: added to search path\n",
      "/home/opam/.opam/4.04.1/lib/base/caml/caml.cma: loaded\n",
      "/home/opam/.opam/4.04.1/lib/base/shadow_stdlib: added to search path\n",
      "/home/opam/.opam/4.04.1/lib/base/shadow_stdlib/shadow_stdlib.cma: loaded\n",
      "/home/opam/.opam/4.04.1/lib/sexplib/0: added to search path\n",
      "/home/opam/.opam/4.04.1/lib/sexplib/0/sexplib0.cma: loaded\n",
      "/home/opam/.opam/4.04.1/lib/base: added to search path\n",
      "/home/opam/.opam/4.04.1/lib/base/base.cma: loaded\n",
      "/home/opam/.opam/4.04.1/lib/ocaml/unix.cma: loaded\n",
      "/home/opam/.opam/4.04.1/lib/ocaml/bigarray.cma: loaded\n",
      "/home/opam/.opam/4.04.1/lib/fieldslib: added to search path\n",
      "/home/opam/.opam/4.04.1/lib/fieldslib/fieldslib.cma: loaded\n",
      "/home/opam/.opam/4.04.1/lib/ppx_compare/runtime-lib: added to search path\n",
      "/home/opam/.opam/4.04.1/lib/ppx_compare/runtime-lib/ppx_compare_lib.cma: loaded\n",
      "/home/opam/.opam/4.04.1/lib/sexplib: added to search path\n",
      "/home/opam/.opam/4.04.1/lib/sexplib/sexplib.cma: loaded\n",
      "/home/opam/.opam/4.04.1/lib/variantslib: added to search path\n",
      "/home/opam/.opam/4.04.1/lib/variantslib/variantslib.cma: loaded\n",
      "/home/opam/.opam/4.04.1/lib/bin_prot/shape: added to search path\n",
      "/home/opam/.opam/4.04.1/lib/bin_prot/shape/bin_shape_lib.cma: loaded\n",
      "/home/opam/.opam/4.04.1/lib/bin_prot: added to search path\n",
      "/home/opam/.opam/4.04.1/lib/bin_prot/bin_prot.cma: loaded\n",
      "/home/opam/.opam/4.04.1/lib/ppx_hash/runtime-lib: added to search path\n",
      "/home/opam/.opam/4.04.1/lib/ppx_hash/runtime-lib/ppx_hash_lib.cma: loaded\n",
      "/home/opam/.opam/4.04.1/lib/ppx_inline_test/config: added to search path\n",
      "/home/opam/.opam/4.04.1/lib/ppx_inline_test/config/inline_test_config.cma: loaded\n",
      "/home/opam/.opam/4.04.1/lib/ppx_inline_test/runtime-lib: added to search path\n",
      "/home/opam/.opam/4.04.1/lib/ppx_inline_test/runtime-lib/ppx_inline_test_lib.cma: loaded\n",
      "/home/opam/.opam/4.04.1/lib/core_kernel/base_for_tests: added to search path\n",
      "/home/opam/.opam/4.04.1/lib/core_kernel/base_for_tests/base_for_tests.cma: loaded\n",
      "/home/opam/.opam/4.04.1/lib/jane-street-headers: added to search path\n",
      "/home/opam/.opam/4.04.1/lib/jane-street-headers/jane_street_headers.cma: loaded\n",
      "/home/opam/.opam/4.04.1/lib/ocaml/nums.cma: loaded\n",
      "/home/opam/.opam/4.04.1/lib/num-top: added to search path\n",
      "/home/opam/.opam/4.04.1/lib/num-top/num_top.cma: loaded\n",
      "/home/opam/.opam/4.04.1/lib/num: added to search path\n",
      "/home/opam/.opam/4.04.1/lib/ppx_assert/runtime-lib: added to search path\n",
      "/home/opam/.opam/4.04.1/lib/ppx_assert/runtime-lib/ppx_assert_lib.cma: loaded\n",
      "/home/opam/.opam/4.04.1/lib/ppx_bench/runtime-lib: added to search path\n",
      "/home/opam/.opam/4.04.1/lib/ppx_bench/runtime-lib/ppx_bench_lib.cma: loaded\n",
      "/home/opam/.opam/4.04.1/lib/ppx_expect/common: added to search path\n",
      "/home/opam/.opam/4.04.1/lib/ppx_expect/common/expect_test_common.cma: loaded\n",
      "/home/opam/.opam/4.04.1/lib/ppx_expect/config: added to search path\n",
      "/home/opam/.opam/4.04.1/lib/ppx_expect/config/expect_test_config.cma: loaded\n",
      "/home/opam/.opam/4.04.1/lib/ppx_expect/collector: added to search path\n",
      "/home/opam/.opam/4.04.1/lib/ppx_expect/collector/expect_test_collector.cma: loaded\n",
      "/home/opam/.opam/4.04.1/lib/stdio: added to search path\n",
      "/home/opam/.opam/4.04.1/lib/stdio/stdio.cma: loaded\n",
      "/home/opam/.opam/4.04.1/lib/typerep: added to search path\n",
      "/home/opam/.opam/4.04.1/lib/typerep/typerep_lib.cma: loaded\n",
      "/home/opam/.opam/4.04.1/lib/core_kernel: added to search path\n",
      "/home/opam/.opam/4.04.1/lib/core_kernel/core_kernel.cma: loaded\n",
      "/home/opam/.opam/4.04.1/lib/sexplib/unix: added to search path\n",
      "/home/opam/.opam/4.04.1/lib/sexplib/unix/sexplib_unix.cma: loaded\n",
      "/home/opam/.opam/4.04.1/lib/spawn: added to search path\n",
      "/home/opam/.opam/4.04.1/lib/spawn/spawn.cma: loaded\n",
      "/home/opam/.opam/4.04.1/lib/ocaml/threads: added to search path\n",
      "/home/opam/.opam/4.04.1/lib/core: added to search path\n",
      "/home/opam/.opam/4.04.1/lib/core/core.cma: loaded\n",
      "/home/opam/.opam/4.04.1/lib/bytes: added to search path\n",
      "/home/opam/.opam/4.04.1/lib/lacaml: added to search path\n",
      "/home/opam/.opam/4.04.1/lib/lacaml/lacaml.cma: loaded\n",
      "/home/opam/.opam/4.04.1/lib/lacaml/lacaml_top.cma: loaded\n",
      "/home/opam/.opam/4.04.1/lib/slap: added to search path\n",
      "/home/opam/.opam/4.04.1/lib/slap/slap.cma: loaded\n",
      "/home/opam/.opam/4.04.1/lib/slap/slap_top.cma: loaded\n",
      "/home/opam/.opam/4.04.1/lib/easy-format: added to search path\n",
      "/home/opam/.opam/4.04.1/lib/easy-format/easy_format.cmo: loaded\n",
      "/home/opam/.opam/4.04.1/lib/biniou: added to search path\n",
      "/home/opam/.opam/4.04.1/lib/biniou/biniou.cma: loaded\n",
      "/home/opam/.opam/4.04.1/lib/yojson: added to search path\n",
      "/home/opam/.opam/4.04.1/lib/yojson/yojson.cmo: loaded\n",
      "/home/opam/.opam/4.04.1/lib/ocaml/str.cma: loaded\n",
      "/home/opam/.opam/4.04.1/lib/atd: added to search path\n",
      "/home/opam/.opam/4.04.1/lib/atd/atd.cma: loaded\n",
      "/home/opam/.opam/4.04.1/lib/atdgen: added to search path\n",
      "/home/opam/.opam/4.04.1/lib/atdgen/atdgen.cma: loaded\n",
      "/home/opam/.opam/4.04.1/lib/result: added to search path\n",
      "/home/opam/.opam/4.04.1/lib/result/result.cma: loaded\n",
      "/home/opam/.opam/4.04.1/lib/lwt: added to search path\n",
      "/home/opam/.opam/4.04.1/lib/lwt/lwt.cma: loaded\n",
      "/home/opam/.opam/4.04.1/lib/lwt/lwt-log.cma: loaded\n",
      "/home/opam/.opam/4.04.1/lib/lwt/lwt-unix.cma: loaded\n",
      "/home/opam/.opam/4.04.1/lib/ctypes: added to search path\n",
      "/home/opam/.opam/4.04.1/lib/ctypes/ctypes.cma: loaded\n",
      "/home/opam/.opam/4.04.1/lib/ctypes/ctypes-top.cma: loaded\n",
      "/home/opam/.opam/4.04.1/lib/ctypes/ctypes-foreign-base.cma: loaded\n",
      "/home/opam/.opam/4.04.1/lib/ctypes/ctypes-foreign-unthreaded.cma: loaded\n",
      "/home/opam/.opam/4.04.1/lib/iocaml-kernel: added to search path\n",
      "/home/opam/.opam/4.04.1/lib/iocaml-kernel/iocaml_lib.cma: loaded\n",
      "/home/opam/.opam/4.04.1/lib/cairo2: added to search path\n",
      "/home/opam/.opam/4.04.1/lib/cairo2/cairo2.cma: loaded\n",
      "/home/opam/.opam/4.04.1/lib/ocaml/dynlink.cma: loaded\n",
      "/home/opam/.opam/4.04.1/lib/ocaml/camlp4: added to search path\n",
      "/home/opam/.opam/4.04.1/lib/archimedes: added to search path\n",
      "/home/opam/.opam/4.04.1/lib/archimedes/archimedes_internals.cma: loaded\n",
      "/home/opam/.opam/4.04.1/lib/archimedes/archimedes_toploop.cma: loaded\n",
      "Module Archimedes loaded and aliased as A.\n",
      "/home/opam/.opam/4.04.1/lib/archimedes/archimedes_cairo.cma: loaded\n"
     ]
    },
    {
     "name": "stdout",
     "output_type": "stream",
     "text": [
      "module Archimedes_iocaml : sig  end\n"
     ]
    }
   ],
   "source": [
    "#require \"core\" ;;\n",
    "#require \"slap.top\" ;;\n",
    "#use \"archimedes_iocaml.ml\" ;;\n",
    "#print_depth 3 ;; (* Avoid too deep pretty printing *)\n",
    "#print_length 30 ;; (* Avoid too long pretty printing *)"
   ]
  },
  {
   "cell_type": "code",
   "execution_count": 7,
   "metadata": {
    "collapsed": true
   },
   "outputs": [],
   "source": [
    "open Core ;;\n",
    "open Core.Caml.Format ;;\n",
    "open Slap.Common ;;\n",
    "open Slap.D ;;"
   ]
  },
  {
   "cell_type": "markdown",
   "metadata": {},
   "source": [
    "## Dimensions, vectors, and matrics\n",
    "\n",
    "The dimensions of vectors and matrics have type `'n Slap.Size.t` like `int`,\n",
    "but type parameter `'n` is the size of itselt as follows:"
   ]
  },
  {
   "cell_type": "code",
   "execution_count": 3,
   "metadata": {},
   "outputs": [
    {
     "data": {
      "text/html": [
       "<pre style=\"color:slategray;max-height:100px;overflow:hidden\" \n",
       "onclick=\"\n",
       "if (this.style.maxHeight === 'none') \n",
       "    this.style.maxHeight = '100px';\n",
       "else\n",
       "    this.style.maxHeight = 'none'; \n",
       "\">val input_dim : Slap.Size.two Slap.Size.t = 2\n",
       "</pre>"
      ]
     },
     "execution_count": 3,
     "metadata": {},
     "output_type": "execute_result"
    },
    {
     "data": {
      "text/html": [
       "<pre style=\"color:slategray;max-height:100px;overflow:hidden\" \n",
       "onclick=\"\n",
       "if (this.style.maxHeight === 'none') \n",
       "    this.style.maxHeight = '100px';\n",
       "else\n",
       "    this.style.maxHeight = 'none'; \n",
       "\">val hidden_dim : Slap.Size.five Slap.Size.t = 5\n",
       "</pre>"
      ]
     },
     "execution_count": 3,
     "metadata": {},
     "output_type": "execute_result"
    },
    {
     "data": {
      "text/html": [
       "<pre style=\"color:slategray;max-height:100px;overflow:hidden\" \n",
       "onclick=\"\n",
       "if (this.style.maxHeight === 'none') \n",
       "    this.style.maxHeight = '100px';\n",
       "else\n",
       "    this.style.maxHeight = 'none'; \n",
       "\">val output_dim : Slap.Size.one Slap.Size.t = 1\n",
       "</pre>"
      ]
     },
     "execution_count": 3,
     "metadata": {},
     "output_type": "execute_result"
    }
   ],
   "source": [
    "let input_dim = Slap.Size.two ;;\n",
    "let hidden_dim = Slap.Size.five ;;\n",
    "let output_dim = Slap.Size.one ;;"
   ]
  },
  {
   "cell_type": "markdown",
   "metadata": {},
   "source": [
    "Similarly, `('n, 'a) vec` is the type of `'n`-dimensional vectors like:"
   ]
  },
  {
   "cell_type": "code",
   "execution_count": 9,
   "metadata": {},
   "outputs": [
    {
     "data": {
      "text/html": [
       "<pre style=\"color:slategray;max-height:100px;overflow:hidden\" \n",
       "onclick=\"\n",
       "if (this.style.maxHeight === 'none') \n",
       "    this.style.maxHeight = '100px';\n",
       "else\n",
       "    this.style.maxHeight = 'none'; \n",
       "\">val x : (Slap.Size.two, 'a) Slap_D.vec = R1 R2\n",
       "                                          1  1\n",
       "</pre>"
      ]
     },
     "execution_count": 9,
     "metadata": {},
     "output_type": "execute_result"
    }
   ],
   "source": [
    "let x = Vec.make1 input_dim"
   ]
  },
  {
   "cell_type": "markdown",
   "metadata": {},
   "source": [
    "The second type parameter is a _contiguous or discrete_ flag. For the time being, you do not need to consider it because we only use contiguous matrices.\n",
    "\n",
    "The matrix type `('m, 'n, 'a) mat` has two dimensional type parameters: `'m`, `'n` are the numbers of rows and columns, respectively."
   ]
  },
  {
   "cell_type": "code",
   "execution_count": 16,
   "metadata": {},
   "outputs": [
    {
     "data": {
      "text/html": [
       "<pre style=\"color:slategray;max-height:100px;overflow:hidden\" \n",
       "onclick=\"\n",
       "if (this.style.maxHeight === 'none') \n",
       "    this.style.maxHeight = '100px';\n",
       "else\n",
       "    this.style.maxHeight = 'none'; \n",
       "\">val a : (Slap.Size.five, Slap.Size.two, 'a) Slap_D.mat =\n",
       "            C1        C2\n",
       "  R1  0.477418  -0.61711\n",
       "  R2  0.936933  0.712317\n",
       "  R3 -0.746637  0.699946\n",
       "  R4  0.395702 -0.604796\n",
       "  R5 -0.760867 0.0103344\n",
       "</pre>"
      ]
     },
     "execution_count": 16,
     "metadata": {},
     "output_type": "execute_result"
    }
   ],
   "source": [
    "let a = Mat.random hidden_dim input_dim ;;"
   ]
  },
  {
   "cell_type": "markdown",
   "metadata": {},
   "source": [
    "## Prediction\n",
    "\n",
    "### Single-layer neural networks\n",
    "\n",
    "Let $\\mathbf{x}$ be an input vector of a layer, $\\mathbf{W}$ be a weight matrix, and $\\mathbf{b}$ be a bias.\n",
    "Output vector $\\mathbf{y}$ is given by\n",
    "\n",
    "$$\\mathbf{y} = \\sigma\\left( \\mathbf{W} \\mathbf{x} + \\mathbf{b} \\right)$$\n",
    "\n",
    "where $\\sigma$ is a sigmoid function defined as\n",
    "\n",
    "$$\\sigma(a) = \\frac{1}{1 + \\exp(-a)}.$$\n",
    "\n",
    "A Level-2 BLAS function `gemv ~trans:normal ~alpha a x ~beta ~y` performs\n",
    "$\\mathbf{y} \\gets \\alpha \\mathbf{A} \\mathbf{x} + \\beta \\mathbf{y}$ ($\\mathbf{y}$ is destructively modified).\n",
    "Using `gemv`, we write a prediction function of single-layer neural network:"
   ]
  },
  {
   "cell_type": "code",
   "execution_count": 12,
   "metadata": {},
   "outputs": [
    {
     "data": {
      "text/html": [
       "<pre style=\"color:slategray;max-height:100px;overflow:hidden\" \n",
       "onclick=\"\n",
       "if (this.style.maxHeight === 'none') \n",
       "    this.style.maxHeight = '100px';\n",
       "else\n",
       "    this.style.maxHeight = 'none'; \n",
       "\">val sigmoid : float -&gt; float = &lt;fun&gt;\n",
       "</pre>"
      ]
     },
     "execution_count": 12,
     "metadata": {},
     "output_type": "execute_result"
    },
    {
     "data": {
      "text/html": [
       "<pre style=\"color:slategray;max-height:100px;overflow:hidden\" \n",
       "onclick=\"\n",
       "if (this.style.maxHeight === 'none') \n",
       "    this.style.maxHeight = '100px';\n",
       "else\n",
       "    this.style.maxHeight = 'none'; \n",
       "\">val predict1 :\n",
       "  ('a, 'b, 'c) Slap.D.mat -&gt;\n",
       "  ('a, 'd) Slap_D.vec -&gt; ('b, 'e) Slap.D.vec -&gt; ('a, 'f) Slap_D.vec = &lt;fun&gt;\n",
       "</pre>"
      ]
     },
     "execution_count": 12,
     "metadata": {},
     "output_type": "execute_result"
    }
   ],
   "source": [
    "let sigmoid a = 1.0 /. (1.0 +. exp (~-. a)) ;;\n",
    "let predict1 w b x = Vec.map sigmoid (gemv ~trans:normal w x ~beta:1.0 ~y:(Vec.copy b)) ;;"
   ]
  },
  {
   "cell_type": "markdown",
   "metadata": {},
   "source": [
    "### Two-layer neural networks\n",
    "\n",
    "Let $\\mathbf{x}$ be an input vector of a layer,\n",
    "$\\mathbf{W}_1, \\mathbf{W}_2$ be weight matrices,\n",
    "and $\\mathbf{b}_1, \\mathbf{b}_2$ be biases.\n",
    "Output vector $\\mathbf{z}$ is given by\n",
    "\n",
    "\\begin{align*}\n",
    "  \\mathbf{y} & = \\sigma\\left( \\mathbf{W}_1 \\mathbf{x} + \\mathbf{b}_1 \\right), \\\\\n",
    "  \\mathbf{z} & = \\sigma\\left( \\mathbf{W}_2 \\mathbf{y} + \\mathbf{b}_2 \\right) \\\\\n",
    "\\end{align*}\n",
    "\n",
    "where $\\mathbf{y}$ is a signal of a hidden layer."
   ]
  },
  {
   "cell_type": "code",
   "execution_count": 14,
   "metadata": {},
   "outputs": [
    {
     "data": {
      "text/html": [
       "<pre style=\"color:slategray;max-height:100px;overflow:hidden\" \n",
       "onclick=\"\n",
       "if (this.style.maxHeight === 'none') \n",
       "    this.style.maxHeight = '100px';\n",
       "else\n",
       "    this.style.maxHeight = 'none'; \n",
       "\">val predict :\n",
       "  ('a, 'b, 'c) Slap.D.mat -&gt;\n",
       "  ('d, 'a, 'e) Slap.D.mat -&gt;\n",
       "  ('a, 'f) Slap_D.vec -&gt;\n",
       "  ('d, 'g) Slap_D.vec -&gt; ('b, 'h) Slap.D.vec -&gt; ('d, 'i) Slap_D.vec = &lt;fun&gt;\n",
       "</pre>"
      ]
     },
     "execution_count": 14,
     "metadata": {},
     "output_type": "execute_result"
    }
   ],
   "source": [
    "let predict w1 w2 b1 b2 x = predict1 w2 b2 (predict1 w1 b1 x)"
   ]
  },
  {
   "cell_type": "markdown",
   "metadata": {},
   "source": [
    "## Training\n",
    "\n",
    "We minimize the root-mean-square (RMS) error\n",
    "\n",
    "$$E(S) = \\frac{1}{2} \\sum_{(\\mathbf{x}, \\mathbf{t}) \\in S} \\| \\mathbf{t} - \\mathbf{z}(\\mathbf{x}) \\|^2$$\n",
    "\n",
    "on a training set $S$ by backpropagation [Rumelhart, et al. 1986]: we repeatedly update the parameters as follows.\n",
    "\n",
    "1. Obtain $(\\mathbf{x}, \\mathbf{t}) \\in S$ with replacement.\n",
    "2. $\\mathbf{y} = \\sigma\\left( \\mathbf{W}_1 \\mathbf{x} + \\mathbf{b}_1 \\right)$\n",
    "3. $\\mathbf{z} = \\sigma\\left( \\mathbf{W}_2 \\mathbf{y} + \\mathbf{b}_2 \\right)$\n",
    "4. $\\mathbf{\\delta}_2 = (\\mathbf{z} - \\mathbf{t}) \\otimes \\mathbf{z} \\otimes (\\mathbf{1} - \\mathbf{z})$\n",
    "5. $\\mathbf{\\delta}_1 = \\mathbf{W}_2^\\top \\mathbf{\\delta}_2 \\otimes \\mathbf{y} \\otimes (\\mathbf{1} - \\mathbf{y})$\n",
    "6. $\\mathbf{W}_1 \\gets \\mathbf{W}_1 - \\eta \\mathbf{\\delta}_1 \\mathbf{x}^\\top$\n",
    "7. $\\mathbf{W}_2 \\gets \\mathbf{W}_2 - \\eta \\mathbf{\\delta}_2 \\mathbf{y}^\\top$\n",
    "8. $\\mathbf{b}_1 \\gets \\mathbf{b}_1 - \\eta \\mathbf{\\delta}_1$\n",
    "9. $\\mathbf{b}_2 \\gets \\mathbf{b}_2 - \\eta \\mathbf{\\delta}_2$\n",
    "\n",
    "where $\\eta > 0$ is a learning rate, and $\\otimes$ is element-wise multiplication on vectors."
   ]
  },
  {
   "cell_type": "code",
   "execution_count": 33,
   "metadata": {},
   "outputs": [
    {
     "data": {
      "text/html": [
       "<pre style=\"color:slategray;max-height:100px;overflow:hidden\" \n",
       "onclick=\"\n",
       "if (this.style.maxHeight === 'none') \n",
       "    this.style.maxHeight = '100px';\n",
       "else\n",
       "    this.style.maxHeight = 'none'; \n",
       "\">val train :\n",
       "  eta:float -&gt;\n",
       "  ('a, 'b, 'c) Slap.D.mat -&gt;\n",
       "  ('d, 'a, 'e) Slap.D.mat -&gt;\n",
       "  ('a, 'f) Slap_D.vec -&gt;\n",
       "  ('d, 'g) Slap_D.vec -&gt; ('b, 'h) Slap.D.vec -&gt; ('d, 'i) Slap_D.vec -&gt; unit =\n",
       "  &lt;fun&gt;\n",
       "</pre>"
      ]
     },
     "execution_count": 33,
     "metadata": {},
     "output_type": "execute_result"
    }
   ],
   "source": [
    "let train ~eta w1 w2 b1 b2 x t =\n",
    "  let dsigmoid v =\n",
    "    let ones = Vec.make1 (Vec.dim v) in\n",
    "    Vec.mul v (Vec.sub ones v)\n",
    "  in\n",
    "  let y = Vec.map sigmoid (gemv ~trans:normal w1 x ~beta:1.0 ~y:(Vec.copy b1)) in\n",
    "  let z = Vec.map sigmoid (gemv ~trans:normal w2 y ~beta:1.0 ~y:(Vec.copy b2)) in\n",
    "  let delta2 = Vec.mul (Vec.sub z t) (dsigmoid z) in\n",
    "  let delta1 = Vec.mul (gemv ~trans:trans w2 delta2) (dsigmoid y) in\n",
    "  ignore (ger ~alpha:(~-. eta) delta2 y w2) ;\n",
    "  ignore (ger ~alpha:(~-. eta) delta1 x w1) ;\n",
    "  axpy ~alpha:(~-. eta) b2 delta2 ;\n",
    "  axpy ~alpha:(~-. eta) b1 delta1"
   ]
  },
  {
   "cell_type": "markdown",
   "metadata": {},
   "source": [
    "### Training a random dataset\n",
    "\n",
    "We use a dataset generated from a bivariate Gaussian distribution\n",
    "by [random_dataset_generation.ipynb](random_dataset_generation.ipynb)."
   ]
  },
  {
   "cell_type": "code",
   "execution_count": 44,
   "metadata": {},
   "outputs": [
    {
     "data": {
      "text/html": [
       "<pre style=\"color:slategray;max-height:100px;overflow:hidden\" \n",
       "onclick=\"\n",
       "if (this.style.maxHeight === 'none') \n",
       "    this.style.maxHeight = '100px';\n",
       "else\n",
       "    this.style.maxHeight = 'none'; \n",
       "\">val dataset :\n",
       "  ((Slap.Size.two, 'a) Slap_D.vec * (Slap.Size.one, 'b) Slap_D.vec)\n",
       "  Core.List.t =\n",
       "  [(       R1      R2\n",
       "    -0.740868 1.08918, R1\n",
       "                        0);\n",
       "   (      R1        R2\n",
       "    -1.37741 -0.485505, R1\n",
       "                         0);\n",
       "   (       R1       R2\n",
       "    -0.727394 0.973983, R1\n",
       "                         0);\n",
       "   (       R1      R2\n",
       "    -0.784392 2.71865, R1\n",
       "                        0);\n",
       "   (         R1      R2\n",
       "    -0.00955137 3.33509, R1\n",
       "                          0);\n",
       "   (     R1       R2\n",
       "    0.34222 0.660543, R1\n",
       "                       0);\n",
       "   (       R1        R2\n",
       "    -0.722362 -0.405427, R1\n",
       "                          0);\n",
       "   (      R1       R2\n",
       "    0.146598 -0.49812, R1\n",
       "                        0);\n",
       "   (       R1       R2\n",
       "    -0.811723 -1.19668, R1\n",
       "                         0);\n",
       "   (...); ...]\n",
       "</pre>"
      ]
     },
     "execution_count": 44,
     "metadata": {},
     "output_type": "execute_result"
    }
   ],
   "source": [
    "let dataset =\n",
    "  let float = float_of_string in\n",
    "  In_channel.read_lines \"datasets/bivariate_gaussian_2d.csv\"\n",
    "  |> List.filter_map ~f:(fun line ->\n",
    "      match String.split ~on:',' line with\n",
    "      | [x; y; t] -> Some (Vec.of_list_dyn input_dim [float x; float y], Vec.of_list_dyn output_dim [float t])\n",
    "      | _ -> None) ;;"
   ]
  },
  {
   "cell_type": "code",
   "execution_count": 51,
   "metadata": {},
   "outputs": [
    {
     "data": {
      "text/html": [
       "<pre style=\"color:slategray;max-height:100px;overflow:hidden\" \n",
       "onclick=\"\n",
       "if (this.style.maxHeight === 'none') \n",
       "    this.style.maxHeight = '100px';\n",
       "else\n",
       "    this.style.maxHeight = 'none'; \n",
       "\">val w1 : (Slap.Size.five, Slap.Size.two, 'a) Slap_D.mat =\n",
       "            C1        C2\n",
       "  R1 -0.196772   1.14776\n",
       "  R2  -4.53393   3.47409\n",
       "  R3   1.57948 -0.267646\n",
       "  R4    2.7169 -0.158617\n",
       "  R5   -3.7695  0.349306\n",
       "val b1 : (Slap.Size.five, 'a) Slap_D.vec =\n",
       "        R1       R2       R3        R4        R5\n",
       "  0.174431 0.656031 0.337263 -0.129893 -0.998747\n",
       "val w2 : (Slap.Size.one, Slap.Size.five, 'a) Slap_D.mat =\n",
       "          C1       C2      C3      C4       C5\n",
       "  R1 1.39497 -2.55019 1.53553 2.72769 -4.01528\n",
       "val b2 : (Slap.Size.one, 'a) Slap_D.vec =       R1\n",
       "                                          0.997245\n",
       "</pre>"
      ]
     },
     "execution_count": 51,
     "metadata": {},
     "output_type": "execute_result"
    }
   ],
   "source": [
    "let (w1, b1, w2, b2) =\n",
    "  let w1 = Mat.random hidden_dim input_dim in\n",
    "  let b1 = Vec.random hidden_dim in\n",
    "  let w2 = Mat.random output_dim hidden_dim in\n",
    "  let b2 = Vec.random output_dim in\n",
    "  for i = 0 to 100 do\n",
    "    List.iter ~f:(fun (x, t) -> train ~eta:1.0 w1 w2 b1 b2 x t) dataset\n",
    "  done ;\n",
    "  (w1, b1, w2, b2)"
   ]
  },
  {
   "cell_type": "markdown",
   "metadata": {},
   "source": [
    "### Decision boundary"
   ]
  },
  {
   "cell_type": "code",
   "execution_count": 61,
   "metadata": {},
   "outputs": [
    {
     "data": {
      "image/png": "[encoded data removed]"
     },
     "metadata": {},
     "output_type": "display_data"
    },
    {
     "data": {
      "text/html": [
       "<pre style=\"color:slategray;max-height:100px;overflow:hidden\" \n",
       "onclick=\"\n",
       "if (this.style.maxHeight === 'none') \n",
       "    this.style.maxHeight = '100px';\n",
       "else\n",
       "    this.style.maxHeight = 'none'; \n",
       "\">- : unit = ()\n",
       "</pre>"
      ]
     },
     "execution_count": 61,
     "metadata": {},
     "output_type": "execute_result"
    }
   ],
   "source": [
    "let xmin, xmax = -1.5, 1.0 in\n",
    "let ymin, ymax = -2.5, 2.5 in\n",
    "let n_samples = 40 in\n",
    "let vp = A.init ~text:14. ~w:500. ~h:300. [\"iocaml\"] in\n",
    "A.Axes.box vp ;\n",
    "A.Viewport.xrange vp xmin xmax ;\n",
    "A.Viewport.yrange vp ymin ymax ;\n",
    "for i = 0 to n_samples do\n",
    "  let y = float i /. float n_samples *. (ymax -. ymin) +. ymin in\n",
    "  for j = 0 to n_samples do\n",
    "    let x = float j /. float n_samples *. (xmax -. xmin) +. xmin in\n",
    "    let z = predict w1 w2 b1 b2 @@ Vec.of_list_dyn input_dim [x; y] in\n",
    "    A.set_color vp (if Vec.get_dyn z 1 > 0.5 then A.Color.red else A.Color.blue) ;\n",
    "    A.List.xy_pairs vp ~style:(`Markers \"x\") [x, y]\n",
    "  done\n",
    "done ;\n",
    "A.close vp"
   ]
  },
  {
   "cell_type": "code",
   "execution_count": null,
   "metadata": {
    "collapsed": true
   },
   "outputs": [],
   "source": []
  }
 ],
 "metadata": {
  "kernelspec": {
   "display_name": "OCaml 4.04.1",
   "language": "ocaml",
   "name": "iocaml-kernel"
  },
  "language_info": {
   "name": "ocaml",
   "version": "4.1.0"
  }
 },
 "nbformat": 4,
 "nbformat_minor": 2
}
