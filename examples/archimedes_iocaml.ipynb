{
 "cells": [
  {
   "cell_type": "markdown",
   "metadata": {},
   "source": [
    "# archimedes_iocaml\n",
    "\n",
    "This is a simple example of [Archimedes](http://archimedes.forge.ocamlcore.org/), \n",
    "an OCaml library for plotting high-quality 2D graphs.\n",
    "You can embed graphs as PNG image in Jupyter notebooks."
   ]
  },
  {
   "cell_type": "code",
   "execution_count": 1,
   "metadata": {},
   "outputs": [
    {
     "name": "stderr",
     "output_type": "stream",
     "text": [
      "/home/opam/.opam/4.04.1/lib/base/caml: added to search path\n",
      "/home/opam/.opam/4.04.1/lib/base/caml/caml.cma: loaded\n",
      "/home/opam/.opam/4.04.1/lib/base/shadow_stdlib: added to search path\n",
      "/home/opam/.opam/4.04.1/lib/base/shadow_stdlib/shadow_stdlib.cma: loaded\n",
      "/home/opam/.opam/4.04.1/lib/sexplib/0: added to search path\n",
      "/home/opam/.opam/4.04.1/lib/sexplib/0/sexplib0.cma: loaded\n",
      "/home/opam/.opam/4.04.1/lib/base: added to search path\n",
      "/home/opam/.opam/4.04.1/lib/base/base.cma: loaded\n",
      "/home/opam/.opam/4.04.1/lib/ocaml/unix.cma: loaded\n",
      "/home/opam/.opam/4.04.1/lib/ocaml/bigarray.cma: loaded\n",
      "/home/opam/.opam/4.04.1/lib/fieldslib: added to search path\n",
      "/home/opam/.opam/4.04.1/lib/fieldslib/fieldslib.cma: loaded\n",
      "/home/opam/.opam/4.04.1/lib/ppx_compare/runtime-lib: added to search path\n",
      "/home/opam/.opam/4.04.1/lib/ppx_compare/runtime-lib/ppx_compare_lib.cma: loaded\n",
      "/home/opam/.opam/4.04.1/lib/sexplib: added to search path\n",
      "/home/opam/.opam/4.04.1/lib/sexplib/sexplib.cma: loaded\n",
      "/home/opam/.opam/4.04.1/lib/variantslib: added to search path\n",
      "/home/opam/.opam/4.04.1/lib/variantslib/variantslib.cma: loaded\n",
      "/home/opam/.opam/4.04.1/lib/bin_prot/shape: added to search path\n",
      "/home/opam/.opam/4.04.1/lib/bin_prot/shape/bin_shape_lib.cma: loaded\n",
      "/home/opam/.opam/4.04.1/lib/bin_prot: added to search path\n",
      "/home/opam/.opam/4.04.1/lib/bin_prot/bin_prot.cma: loaded\n",
      "/home/opam/.opam/4.04.1/lib/ppx_hash/runtime-lib: added to search path\n",
      "/home/opam/.opam/4.04.1/lib/ppx_hash/runtime-lib/ppx_hash_lib.cma: loaded\n",
      "/home/opam/.opam/4.04.1/lib/ppx_inline_test/config: added to search path\n",
      "/home/opam/.opam/4.04.1/lib/ppx_inline_test/config/inline_test_config.cma: loaded\n",
      "/home/opam/.opam/4.04.1/lib/ppx_inline_test/runtime-lib: added to search path\n",
      "/home/opam/.opam/4.04.1/lib/ppx_inline_test/runtime-lib/ppx_inline_test_lib.cma: loaded\n",
      "/home/opam/.opam/4.04.1/lib/core_kernel/base_for_tests: added to search path\n",
      "/home/opam/.opam/4.04.1/lib/core_kernel/base_for_tests/base_for_tests.cma: loaded\n",
      "/home/opam/.opam/4.04.1/lib/jane-street-headers: added to search path\n",
      "/home/opam/.opam/4.04.1/lib/jane-street-headers/jane_street_headers.cma: loaded\n",
      "/home/opam/.opam/4.04.1/lib/ocaml/nums.cma: loaded\n",
      "/home/opam/.opam/4.04.1/lib/num-top: added to search path\n",
      "/home/opam/.opam/4.04.1/lib/num-top/num_top.cma: loaded\n",
      "/home/opam/.opam/4.04.1/lib/num: added to search path\n",
      "/home/opam/.opam/4.04.1/lib/ppx_assert/runtime-lib: added to search path\n",
      "/home/opam/.opam/4.04.1/lib/ppx_assert/runtime-lib/ppx_assert_lib.cma: loaded\n",
      "/home/opam/.opam/4.04.1/lib/ppx_bench/runtime-lib: added to search path\n",
      "/home/opam/.opam/4.04.1/lib/ppx_bench/runtime-lib/ppx_bench_lib.cma: loaded\n",
      "/home/opam/.opam/4.04.1/lib/ppx_expect/common: added to search path\n",
      "/home/opam/.opam/4.04.1/lib/ppx_expect/common/expect_test_common.cma: loaded\n",
      "/home/opam/.opam/4.04.1/lib/ppx_expect/config: added to search path\n",
      "/home/opam/.opam/4.04.1/lib/ppx_expect/config/expect_test_config.cma: loaded\n",
      "/home/opam/.opam/4.04.1/lib/ppx_expect/collector: added to search path\n",
      "/home/opam/.opam/4.04.1/lib/ppx_expect/collector/expect_test_collector.cma: loaded\n",
      "/home/opam/.opam/4.04.1/lib/stdio: added to search path\n",
      "/home/opam/.opam/4.04.1/lib/stdio/stdio.cma: loaded\n",
      "/home/opam/.opam/4.04.1/lib/typerep: added to search path\n",
      "/home/opam/.opam/4.04.1/lib/typerep/typerep_lib.cma: loaded\n",
      "/home/opam/.opam/4.04.1/lib/core_kernel: added to search path\n",
      "/home/opam/.opam/4.04.1/lib/core_kernel/core_kernel.cma: loaded\n",
      "/home/opam/.opam/4.04.1/lib/sexplib/unix: added to search path\n",
      "/home/opam/.opam/4.04.1/lib/sexplib/unix/sexplib_unix.cma: loaded\n",
      "/home/opam/.opam/4.04.1/lib/spawn: added to search path\n",
      "/home/opam/.opam/4.04.1/lib/spawn/spawn.cma: loaded\n",
      "/home/opam/.opam/4.04.1/lib/ocaml/threads: added to search path\n",
      "/home/opam/.opam/4.04.1/lib/core: added to search path\n",
      "/home/opam/.opam/4.04.1/lib/core/core.cma: loaded\n",
      "/home/opam/.opam/4.04.1/lib/easy-format: added to search path\n",
      "/home/opam/.opam/4.04.1/lib/easy-format/easy_format.cmo: loaded\n",
      "/home/opam/.opam/4.04.1/lib/biniou: added to search path\n",
      "/home/opam/.opam/4.04.1/lib/biniou/biniou.cma: loaded\n",
      "/home/opam/.opam/4.04.1/lib/yojson: added to search path\n",
      "/home/opam/.opam/4.04.1/lib/yojson/yojson.cmo: loaded\n",
      "/home/opam/.opam/4.04.1/lib/ocaml/str.cma: loaded\n",
      "/home/opam/.opam/4.04.1/lib/atd: added to search path\n",
      "/home/opam/.opam/4.04.1/lib/atd/atd.cma: loaded\n",
      "/home/opam/.opam/4.04.1/lib/atdgen: added to search path\n",
      "/home/opam/.opam/4.04.1/lib/atdgen/atdgen.cma: loaded\n",
      "/home/opam/.opam/4.04.1/lib/bytes: added to search path\n",
      "/home/opam/.opam/4.04.1/lib/result: added to search path\n",
      "/home/opam/.opam/4.04.1/lib/result/result.cma: loaded\n",
      "/home/opam/.opam/4.04.1/lib/lwt: added to search path\n",
      "/home/opam/.opam/4.04.1/lib/lwt/lwt.cma: loaded\n",
      "/home/opam/.opam/4.04.1/lib/lwt/lwt-log.cma: loaded\n",
      "/home/opam/.opam/4.04.1/lib/lwt/lwt-unix.cma: loaded\n",
      "/home/opam/.opam/4.04.1/lib/ctypes: added to search path\n",
      "/home/opam/.opam/4.04.1/lib/ctypes/ctypes.cma: loaded\n",
      "/home/opam/.opam/4.04.1/lib/ctypes/ctypes-top.cma: loaded\n",
      "/home/opam/.opam/4.04.1/lib/ctypes/ctypes-foreign-base.cma: loaded\n",
      "/home/opam/.opam/4.04.1/lib/ctypes/ctypes-foreign-unthreaded.cma: loaded\n",
      "/home/opam/.opam/4.04.1/lib/iocaml-kernel: added to search path\n",
      "/home/opam/.opam/4.04.1/lib/iocaml-kernel/iocaml_lib.cma: loaded\n",
      "/home/opam/.opam/4.04.1/lib/cairo2: added to search path\n",
      "/home/opam/.opam/4.04.1/lib/cairo2/cairo2.cma: loaded\n",
      "/home/opam/.opam/4.04.1/lib/ocaml/dynlink.cma: loaded\n",
      "/home/opam/.opam/4.04.1/lib/ocaml/camlp4: added to search path\n",
      "/home/opam/.opam/4.04.1/lib/archimedes: added to search path\n",
      "/home/opam/.opam/4.04.1/lib/archimedes/archimedes_internals.cma: loaded\n",
      "/home/opam/.opam/4.04.1/lib/archimedes/archimedes_toploop.cma: loaded\n",
      "Module Archimedes loaded and aliased as A.\n",
      "/home/opam/.opam/4.04.1/lib/archimedes/archimedes_cairo.cma: loaded\n"
     ]
    },
    {
     "name": "stdout",
     "output_type": "stream",
     "text": [
      "module Archimedes_iocaml : sig  end\n"
     ]
    }
   ],
   "source": [
    "#require \"core\";;\n",
    "#use \"archimedes_iocaml.ml\";;\n",
    "open Core ;;"
   ]
  },
  {
   "cell_type": "markdown",
   "metadata": {},
   "source": [
    "## Plot a function\n",
    "\n",
    "You can plot an OCaml function: $y = \\sin(x)$."
   ]
  },
  {
   "cell_type": "code",
   "execution_count": 2,
   "metadata": {},
   "outputs": [
    {
     "name": "stderr",
     "output_type": "stream",
     "text": [
      "File \"[2]\", line 4, characters 8-11:\n",
      "Warning 3: deprecated: Core.sin\n",
      "[since 2016-07] Use [Float.sin]\n"
     ]
    },
    {
     "data": {
      "image/png": "[encoded data removed]"
     },
     "metadata": {},
     "output_type": "display_data"
    },
    {
     "data": {
      "text/html": [
       "<pre style=\"color:slategray;max-height:100px;overflow:hidden\" \n",
       "onclick=\"\n",
       "if (this.style.maxHeight === 'none') \n",
       "    this.style.maxHeight = '100px';\n",
       "else\n",
       "    this.style.maxHeight = 'none'; \n",
       "\">- : unit = ()\n",
       "</pre>"
      ]
     },
     "execution_count": 2,
     "metadata": {},
     "output_type": "execute_result"
    }
   ],
   "source": [
    "let vp = A.init ~w:500. ~h:300. [\"iocaml\"] in\n",
    "A.Axes.box vp ;\n",
    "A.set_color vp A.Color.red ;\n",
    "A.fx vp sin 0. 10. ;\n",
    "A.close vp"
   ]
  },
  {
   "cell_type": "markdown",
   "metadata": {},
   "source": [
    "## Plot data points\n",
    "\n",
    "Plot timeseries data of USD-EUR foreign exchange rates.\n",
    "\n",
    "Data source: https://fred.stlouisfed.org/series/DEXUSEU"
   ]
  },
  {
   "cell_type": "code",
   "execution_count": 3,
   "metadata": {},
   "outputs": [
    {
     "data": {
      "image/png": "[encoded data removed]"
     },
     "metadata": {},
     "output_type": "display_data"
    },
    {
     "data": {
      "text/html": [
       "<pre style=\"color:slategray;max-height:100px;overflow:hidden\" \n",
       "onclick=\"\n",
       "if (this.style.maxHeight === 'none') \n",
       "    this.style.maxHeight = '100px';\n",
       "else\n",
       "    this.style.maxHeight = 'none'; \n",
       "\">val zone : Core.Time.Zone.t = &lt;abstr&gt;\n",
       "</pre>"
      ]
     },
     "execution_count": 3,
     "metadata": {},
     "output_type": "execute_result"
    },
    {
     "data": {
      "text/html": [
       "<pre style=\"color:slategray;max-height:100px;overflow:hidden\" \n",
       "onclick=\"\n",
       "if (this.style.maxHeight === 'none') \n",
       "    this.style.maxHeight = '100px';\n",
       "else\n",
       "    this.style.maxHeight = 'none'; \n",
       "\">val days_of_string : string -&gt; Core_kernel__.Import.float = &lt;fun&gt;\n",
       "</pre>"
      ]
     },
     "execution_count": 3,
     "metadata": {},
     "output_type": "execute_result"
    },
    {
     "data": {
      "text/html": [
       "<pre style=\"color:slategray;max-height:100px;overflow:hidden\" \n",
       "onclick=\"\n",
       "if (this.style.maxHeight === 'none') \n",
       "    this.style.maxHeight = '100px';\n",
       "else\n",
       "    this.style.maxHeight = 'none'; \n",
       "\">val string_of_days : Core_kernel__.Import.float -&gt; string = &lt;fun&gt;\n",
       "</pre>"
      ]
     },
     "execution_count": 3,
     "metadata": {},
     "output_type": "execute_result"
    },
    {
     "data": {
      "text/html": [
       "<pre style=\"color:slategray;max-height:100px;overflow:hidden\" \n",
       "onclick=\"\n",
       "if (this.style.maxHeight === 'none') \n",
       "    this.style.maxHeight = '100px';\n",
       "else\n",
       "    this.style.maxHeight = 'none'; \n",
       "\">- : unit = ()\n",
       "</pre>"
      ]
     },
     "execution_count": 3,
     "metadata": {},
     "output_type": "execute_result"
    }
   ],
   "source": [
    "let zone = Time.Zone.utc ;;  (* Time zone is UTC *)\n",
    "\n",
    "let days_of_string date_str =\n",
    "    let date = Date.of_string date_str in                   (* Date (YYYY-MM-DD) *)\n",
    "    Time.of_date_ofday ~zone date (Time.Ofday.start_of_day) (* DateTime (YYYY-MM-DD 00:00:00) *)\n",
    "    |> Time.to_span_since_epoch                             (* # of seconds since poch *)\n",
    "    |> Time.Span.to_day                                     (* # of days since epoch *)\n",
    ";;\n",
    "let string_of_days days =\n",
    "    Time.Span.of_day days        (* # of days since epoch *)\n",
    "    |> Time.of_span_since_epoch  (* # of seconds since epoch *)\n",
    "    |> Time.to_date ~zone        (* DateTime (YYYY-MM-DD HH:MM:SS) *)\n",
    "    |> Date.to_string            (* Date (YYYY-MM-DD) *)\n",
    ";;\n",
    "let usd_eur =\n",
    "    In_channel.read_lines \"datasets/DEXUSEU.csv\"\n",
    "    |> List.tl_exn                      (* Remove the CSV header line *)\n",
    "    |> List.filter_map\n",
    "        ~f:(fun line ->\n",
    "            let (date_str, rate_str) = String.lsplit2_exn ~on:',' line in (* Split a CSV line by comma *)\n",
    "            try Some (days_of_string date_str, float_of_string rate_str)\n",
    "            with _ -> None)\n",
    "in\n",
    "let vp = A.init ~w:800. ~h:300. [\"iocaml\"] in\n",
    "A.Axes.box vp ~tics:(A.Tics.Auto A.Tics.No_label) ;\n",
    "A.Axes.x vp ~grid:true ~tics:(A.Tics.Auto (A.Tics.Custom string_of_days)) ;\n",
    "A.Axes.y vp ~grid:true ;\n",
    "A.set_color vp A.Color.red ;\n",
    "A.List.xy_pairs vp ~style:`Lines usd_eur ;\n",
    "A.close vp"
   ]
  },
  {
   "cell_type": "code",
   "execution_count": null,
   "metadata": {
    "collapsed": true
   },
   "outputs": [],
   "source": []
  }
 ],
 "metadata": {
  "kernelspec": {
   "display_name": "OCaml 4.04.1",
   "language": "ocaml",
   "name": "iocaml-kernel"
  },
  "language_info": {
   "name": "ocaml",
   "version": "4.1.0"
  }
 },
 "nbformat": 4,
 "nbformat_minor": 2
}
