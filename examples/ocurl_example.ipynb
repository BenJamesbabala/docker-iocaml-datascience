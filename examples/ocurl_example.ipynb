{
 "cells": [
  {
   "cell_type": "markdown",
   "metadata": {},
   "source": [
    "# ocurl_example\n",
    "\n",
    "[ocurl](http://ygrek.org.ua/p/ocurl/) is a binding to libcurl, a popular easy-to-use HTTP(S) client library.\n",
    "This library is useful to access to API servers or Web scraping."
   ]
  },
  {
   "cell_type": "code",
   "execution_count": 1,
   "metadata": {
    "scrolled": true
   },
   "outputs": [
    {
     "name": "stderr",
     "output_type": "stream",
     "text": [
      "/home/opam/.opam/4.04.1/lib/base/caml: added to search path\n",
      "/home/opam/.opam/4.04.1/lib/base/caml/caml.cma: loaded\n",
      "/home/opam/.opam/4.04.1/lib/base/shadow_stdlib: added to search path\n",
      "/home/opam/.opam/4.04.1/lib/base/shadow_stdlib/shadow_stdlib.cma: loaded\n",
      "/home/opam/.opam/4.04.1/lib/sexplib/0: added to search path\n",
      "/home/opam/.opam/4.04.1/lib/sexplib/0/sexplib0.cma: loaded\n",
      "/home/opam/.opam/4.04.1/lib/base: added to search path\n",
      "/home/opam/.opam/4.04.1/lib/base/base.cma: loaded\n",
      "/home/opam/.opam/4.04.1/lib/ocaml/unix.cma: loaded\n",
      "/home/opam/.opam/4.04.1/lib/ocaml/bigarray.cma: loaded\n",
      "/home/opam/.opam/4.04.1/lib/fieldslib: added to search path\n",
      "/home/opam/.opam/4.04.1/lib/fieldslib/fieldslib.cma: loaded\n",
      "/home/opam/.opam/4.04.1/lib/ppx_compare/runtime-lib: added to search path\n",
      "/home/opam/.opam/4.04.1/lib/ppx_compare/runtime-lib/ppx_compare_lib.cma: loaded\n",
      "/home/opam/.opam/4.04.1/lib/sexplib: added to search path\n",
      "/home/opam/.opam/4.04.1/lib/sexplib/sexplib.cma: loaded\n",
      "/home/opam/.opam/4.04.1/lib/variantslib: added to search path\n",
      "/home/opam/.opam/4.04.1/lib/variantslib/variantslib.cma: loaded\n",
      "/home/opam/.opam/4.04.1/lib/bin_prot/shape: added to search path\n",
      "/home/opam/.opam/4.04.1/lib/bin_prot/shape/bin_shape_lib.cma: loaded\n",
      "/home/opam/.opam/4.04.1/lib/bin_prot: added to search path\n",
      "/home/opam/.opam/4.04.1/lib/bin_prot/bin_prot.cma: loaded\n",
      "/home/opam/.opam/4.04.1/lib/ppx_hash/runtime-lib: added to search path\n",
      "/home/opam/.opam/4.04.1/lib/ppx_hash/runtime-lib/ppx_hash_lib.cma: loaded\n",
      "/home/opam/.opam/4.04.1/lib/ppx_inline_test/config: added to search path\n",
      "/home/opam/.opam/4.04.1/lib/ppx_inline_test/config/inline_test_config.cma: loaded\n",
      "/home/opam/.opam/4.04.1/lib/ppx_inline_test/runtime-lib: added to search path\n",
      "/home/opam/.opam/4.04.1/lib/ppx_inline_test/runtime-lib/ppx_inline_test_lib.cma: loaded\n",
      "/home/opam/.opam/4.04.1/lib/core_kernel/base_for_tests: added to search path\n",
      "/home/opam/.opam/4.04.1/lib/core_kernel/base_for_tests/base_for_tests.cma: loaded\n",
      "/home/opam/.opam/4.04.1/lib/jane-street-headers: added to search path\n",
      "/home/opam/.opam/4.04.1/lib/jane-street-headers/jane_street_headers.cma: loaded\n",
      "/home/opam/.opam/4.04.1/lib/ocaml/nums.cma: loaded\n",
      "/home/opam/.opam/4.04.1/lib/num-top: added to search path\n",
      "/home/opam/.opam/4.04.1/lib/num-top/num_top.cma: loaded\n",
      "/home/opam/.opam/4.04.1/lib/num: added to search path\n",
      "/home/opam/.opam/4.04.1/lib/ppx_assert/runtime-lib: added to search path\n",
      "/home/opam/.opam/4.04.1/lib/ppx_assert/runtime-lib/ppx_assert_lib.cma: loaded\n",
      "/home/opam/.opam/4.04.1/lib/ppx_bench/runtime-lib: added to search path\n",
      "/home/opam/.opam/4.04.1/lib/ppx_bench/runtime-lib/ppx_bench_lib.cma: loaded\n",
      "/home/opam/.opam/4.04.1/lib/ppx_expect/common: added to search path\n",
      "/home/opam/.opam/4.04.1/lib/ppx_expect/common/expect_test_common.cma: loaded\n",
      "/home/opam/.opam/4.04.1/lib/ppx_expect/config: added to search path\n",
      "/home/opam/.opam/4.04.1/lib/ppx_expect/config/expect_test_config.cma: loaded\n",
      "/home/opam/.opam/4.04.1/lib/ppx_expect/collector: added to search path\n",
      "/home/opam/.opam/4.04.1/lib/ppx_expect/collector/expect_test_collector.cma: loaded\n",
      "/home/opam/.opam/4.04.1/lib/stdio: added to search path\n",
      "/home/opam/.opam/4.04.1/lib/stdio/stdio.cma: loaded\n",
      "/home/opam/.opam/4.04.1/lib/typerep: added to search path\n",
      "/home/opam/.opam/4.04.1/lib/typerep/typerep_lib.cma: loaded\n",
      "/home/opam/.opam/4.04.1/lib/core_kernel: added to search path\n",
      "/home/opam/.opam/4.04.1/lib/core_kernel/core_kernel.cma: loaded\n",
      "/home/opam/.opam/4.04.1/lib/sexplib/unix: added to search path\n",
      "/home/opam/.opam/4.04.1/lib/sexplib/unix/sexplib_unix.cma: loaded\n",
      "/home/opam/.opam/4.04.1/lib/spawn: added to search path\n",
      "/home/opam/.opam/4.04.1/lib/spawn/spawn.cma: loaded\n",
      "/home/opam/.opam/4.04.1/lib/ocaml/threads: added to search path\n",
      "/home/opam/.opam/4.04.1/lib/core: added to search path\n",
      "/home/opam/.opam/4.04.1/lib/core/core.cma: loaded\n",
      "/home/opam/.opam/4.04.1/lib/curl: added to search path\n",
      "/home/opam/.opam/4.04.1/lib/curl/curl.cma: loaded\n",
      "/home/opam/.opam/4.04.1/lib/bytes: added to search path\n",
      "/home/opam/.opam/4.04.1/lib/re: added to search path\n",
      "/home/opam/.opam/4.04.1/lib/re/re.cma: loaded\n",
      "/home/opam/.opam/4.04.1/lib/re/re_posix.cma: loaded\n",
      "/home/opam/.opam/4.04.1/lib/stringext: added to search path\n",
      "/home/opam/.opam/4.04.1/lib/stringext/stringext.cma: loaded\n",
      "/home/opam/.opam/4.04.1/lib/uri: added to search path\n",
      "/home/opam/.opam/4.04.1/lib/uri/uri.cma: loaded\n",
      "/home/opam/.opam/4.04.1/lib/easy-format: added to search path\n",
      "/home/opam/.opam/4.04.1/lib/easy-format/easy_format.cmo: loaded\n",
      "/home/opam/.opam/4.04.1/lib/biniou: added to search path\n",
      "/home/opam/.opam/4.04.1/lib/biniou/biniou.cma: loaded\n",
      "/home/opam/.opam/4.04.1/lib/yojson: added to search path\n",
      "/home/opam/.opam/4.04.1/lib/yojson/yojson.cmo: loaded\n"
     ]
    }
   ],
   "source": [
    "#require \"core\" ;;\n",
    "#require \"curl\" ;;\n",
    "#require \"uri\" ;;\n",
    "#require \"yojson\" ;;"
   ]
  },
  {
   "cell_type": "code",
   "execution_count": 2,
   "metadata": {
    "collapsed": true
   },
   "outputs": [],
   "source": [
    "open Core ;;"
   ]
  },
  {
   "cell_type": "code",
   "execution_count": 3,
   "metadata": {},
   "outputs": [
    {
     "data": {
      "text/html": [
       "<pre style=\"color:slategray;max-height:100px;overflow:hidden\" \n",
       "onclick=\"\n",
       "if (this.style.maxHeight === 'none') \n",
       "    this.style.maxHeight = '100px';\n",
       "else\n",
       "    this.style.maxHeight = 'none'; \n",
       "\">- : unit = ()\n",
       "</pre>"
      ]
     },
     "execution_count": 3,
     "metadata": {},
     "output_type": "execute_result"
    }
   ],
   "source": [
    "Curl.global_init Curl.CURLINIT_GLOBALALL ;;"
   ]
  },
  {
   "cell_type": "code",
   "execution_count": 4,
   "metadata": {},
   "outputs": [
    {
     "data": {
      "text/html": [
       "<pre style=\"color:slategray;max-height:100px;overflow:hidden\" \n",
       "onclick=\"\n",
       "if (this.style.maxHeight === 'none') \n",
       "    this.style.maxHeight = '100px';\n",
       "else\n",
       "    this.style.maxHeight = 'none'; \n",
       "\">val search_query : string -&gt; string option = &lt;fun&gt;\n",
       "</pre>"
      ]
     },
     "execution_count": 4,
     "metadata": {},
     "output_type": "execute_result"
    }
   ],
   "source": [
    "let search_query query =\n",
    "  let b = Buffer.create 128 in\n",
    "  let write_result s =\n",
    "    Buffer.add_string b s ;\n",
    "    String.length s\n",
    "  in\n",
    "  let base_uri = Uri.of_string \"http://api.duckduckgo.com/?format=json\" in\n",
    "  let uri = Uri.add_query_param base_uri (\"q\", [query]) |> Uri.to_string in\n",
    "  let c = Curl.init () in\n",
    "  Curl.set_writefunction c write_result ;\n",
    "  Curl.set_followlocation c true ;\n",
    "  Curl.set_url c uri ;\n",
    "  Curl.set_sslverifypeer c true ;\n",
    "  Curl.perform c ;\n",
    "  Curl.cleanup c ;\n",
    "  let body = Buffer.contents b in\n",
    "  let json = Yojson.Basic.from_string body in (* Parse a JSON *)\n",
    "  (* Find field \"Definition\" or \"Abstract\" in a JSON *)\n",
    "  let def = Yojson.Basic.Util.(json |> member \"Definition\" |> to_string_option) in\n",
    "  let abs = Yojson.Basic.Util.(json |> member \"Abstract\" |> to_string_option) in\n",
    "  match def with\n",
    "  | None | Some \"\" -> abs\n",
    "  | _ -> def"
   ]
  },
  {
   "cell_type": "code",
   "execution_count": 5,
   "metadata": {},
   "outputs": [
    {
     "data": {
      "text/html": [
       "<pre style=\"color:slategray;max-height:100px;overflow:hidden\" \n",
       "onclick=\"\n",
       "if (this.style.maxHeight === 'none') \n",
       "    this.style.maxHeight = '100px';\n",
       "else\n",
       "    this.style.maxHeight = 'none'; \n",
       "\">- : string option =\n",
       "Some\n",
       " &quot;OCaml, originally named Objective Caml, is the main implementation of the programming language Caml, created by Xavier Leroy, J\\195\\169r\\195\\180me Vouillon, Damien Doligez, Didier R\\195\\169my, Asc\\195\\161nder Su\\195\\161rez and others in 1996. A member of the ML language family, OCaml extends the core Caml language with object-oriented programming constructs.&quot;\n",
       "</pre>"
      ]
     },
     "execution_count": 5,
     "metadata": {},
     "output_type": "execute_result"
    }
   ],
   "source": [
    "search_query \"ocaml\""
   ]
  },
  {
   "cell_type": "code",
   "execution_count": null,
   "metadata": {
    "collapsed": true
   },
   "outputs": [],
   "source": []
  }
 ],
 "metadata": {
  "kernelspec": {
   "display_name": "OCaml 4.04.1",
   "language": "ocaml",
   "name": "iocaml-kernel"
  },
  "language_info": {
   "name": "ocaml",
   "version": "4.1.0"
  }
 },
 "nbformat": 4,
 "nbformat_minor": 2
}
