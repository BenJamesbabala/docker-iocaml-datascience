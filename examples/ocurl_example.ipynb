{
 "cells": [
  {
   "cell_type": "markdown",
   "metadata": {},
   "source": [
    "# ocurl_example\n",
    "\n",
    "[ocurl](http://ygrek.org.ua/p/ocurl/) is a binding to libcurl, a popular easy-to-use HTTP(S) client library.\n",
    "This library is useful to access to API servers or Web scraping."
   ]
  },
  {
   "cell_type": "code",
   "execution_count": 1,
   "metadata": {},
   "outputs": [
    {
     "name": "stderr",
     "output_type": "stream",
     "text": [
      "/home/opam/.opam/4.04.1/lib/ocaml/unix.cma: loaded\n",
      "/home/opam/.opam/4.04.1/lib/curl: added to search path\n",
      "/home/opam/.opam/4.04.1/lib/curl/curl.cma: loaded\n"
     ]
    }
   ],
   "source": [
    "#require \"curl\";;"
   ]
  },
  {
   "cell_type": "code",
   "execution_count": 2,
   "metadata": {},
   "outputs": [
    {
     "data": {
      "text/html": [
       "<pre style=\"color:slategray;max-height:100px;overflow:hidden\" \n",
       "onclick=\"\n",
       "if (this.style.maxHeight === 'none') \n",
       "    this.style.maxHeight = '100px';\n",
       "else\n",
       "    this.style.maxHeight = 'none'; \n",
       "\">- : unit = ()\n",
       "</pre>"
      ]
     },
     "execution_count": 2,
     "metadata": {},
     "output_type": "execute_result"
    }
   ],
   "source": [
    "Curl.global_init Curl.CURLINIT_GLOBALALL ;;"
   ]
  },
  {
   "cell_type": "code",
   "execution_count": 3,
   "metadata": {},
   "outputs": [
    {
     "data": {
      "text/html": [
       "<pre style=\"color:slategray;max-height:100px;overflow:hidden\" \n",
       "onclick=\"\n",
       "if (this.style.maxHeight === 'none') \n",
       "    this.style.maxHeight = '100px';\n",
       "else\n",
       "    this.style.maxHeight = 'none'; \n",
       "\">val b : Buffer.t = &lt;abstr&gt;\n",
       "</pre>"
      ]
     },
     "execution_count": 3,
     "metadata": {},
     "output_type": "execute_result"
    },
    {
     "data": {
      "text/html": [
       "<pre style=\"color:slategray;max-height:100px;overflow:hidden\" \n",
       "onclick=\"\n",
       "if (this.style.maxHeight === 'none') \n",
       "    this.style.maxHeight = '100px';\n",
       "else\n",
       "    this.style.maxHeight = 'none'; \n",
       "\">- : unit = ()\n",
       "</pre>"
      ]
     },
     "execution_count": 3,
     "metadata": {},
     "output_type": "execute_result"
    }
   ],
   "source": [
    "let b = Buffer.create 128 ;;\n",
    "\n",
    "let write_result b s =\n",
    "    Buffer.add_string b s ;\n",
    "    String.length s\n",
    "in\n",
    "let c = Curl.init () in\n",
    "Curl.set_writefunction c (write_result b);\n",
    "Curl.set_followlocation c true;\n",
    "Curl.set_url c \"https://example.com\" ;\n",
    "Curl.set_sslverifypeer c true ;\n",
    "Curl.perform c ;\n",
    "Curl.cleanup c"
   ]
  },
  {
   "cell_type": "code",
   "execution_count": 4,
   "metadata": {},
   "outputs": [
    {
     "data": {
      "text/html": [
       "<pre style=\"color:slategray;max-height:100px;overflow:hidden\" \n",
       "onclick=\"\n",
       "if (this.style.maxHeight === 'none') \n",
       "    this.style.maxHeight = '100px';\n",
       "else\n",
       "    this.style.maxHeight = 'none'; \n",
       "\">- : string =\n",
       "&quot;&lt;!doctype html&gt;\\n&lt;html&gt;\\n&lt;head&gt;\\n    &lt;title&gt;Example Domain&lt;/title&gt;\\n\\n    &lt;meta charset=\\&quot;utf-8\\&quot; /&gt;\\n    &lt;meta http-equiv=\\&quot;Content-type\\&quot; content=\\&quot;text/html; charset=utf-8\\&quot; /&gt;\\n    &lt;meta name=\\&quot;viewport\\&quot; content=\\&quot;width=device-width, initial-scale=1\\&quot; /&gt;\\n    &lt;style type=\\&quot;text/css\\&quot;&gt;\\n    body {\\n        background-color: #f0f0f2;\\n        margin: 0;\\n        padding: 0;\\n        font-family: \\&quot;Open Sans\\&quot;, \\&quot;Helvetica Neue\\&quot;, Helvetica, Arial, sans-serif;\\n        \\n    }\\n    div {\\n        width: 600px;\\n        margin: 5em auto;\\n        padding: 50px;\\n        background-color: #fff;\\n        border-radius: 1em;\\n    }\\n    a:link, a:visited {\\n        color: #38488f;\\n        text-decoration: none;\\n    }\\n    @media (max-width: 700px) {\\n        body {\\n            background-color: #fff;\\n        }\\n        div {\\n            width: auto;\\n            margin: 0 auto;\\n            border-radius: 0;\\n            padding: 1em;\\n        }\\n    }\\n    &lt;/style&gt;    \\n&lt;/head&gt;\\n\\n&lt;body&gt;\\n&lt;div&gt;\\n    &lt;h1&gt;Example Domain&lt;/h1&gt;\\n    &lt;p&gt;This domain is established to be used for illustrative examples in documents. You may use this\\n    domain in examples without prior coordination or asking for permission.&lt;/p&gt;\\n    &lt;p&gt;&lt;a href=\\&quot;http://www.iana.org/domains/example\\&quot;&gt;More information...&lt;/a&gt;&lt;/p&gt;\\n&lt;/div&gt;\\n&lt;/body&gt;\\n&lt;/html&gt;\\n&quot;\n",
       "</pre>"
      ]
     },
     "execution_count": 4,
     "metadata": {},
     "output_type": "execute_result"
    }
   ],
   "source": [
    "Buffer.contents b"
   ]
  },
  {
   "cell_type": "code",
   "execution_count": null,
   "metadata": {
    "collapsed": true
   },
   "outputs": [],
   "source": []
  }
 ],
 "metadata": {
  "kernelspec": {
   "display_name": "OCaml 4.04.1",
   "language": "ocaml",
   "name": "iocaml-kernel"
  },
  "language_info": {
   "name": "ocaml",
   "version": "4.1.0"
  }
 },
 "nbformat": 4,
 "nbformat_minor": 2
}
