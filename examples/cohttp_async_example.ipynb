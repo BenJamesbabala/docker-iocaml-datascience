{
 "cells": [
  {
   "cell_type": "markdown",
   "metadata": {},
   "source": [
    "# cohttp_async_example\n",
    "\n",
    "A simple example of use of the DuckDuckGo API server by `cohttp.async`."
   ]
  },
  {
   "cell_type": "code",
   "execution_count": 1,
   "metadata": {
    "scrolled": true
   },
   "outputs": [
    {
     "name": "stderr",
     "output_type": "stream",
     "text": [
      "/home/opam/.opam/4.04.1/lib/ocaml/threads: added to search path\n",
      "/home/opam/.opam/4.04.1/lib/ocaml/unix.cma: loaded\n",
      "/home/opam/.opam/4.04.1/lib/ocaml/threads/threads.cma: loaded\n",
      "/home/opam/.opam/4.04.1/lib/easy-format: added to search path\n",
      "/home/opam/.opam/4.04.1/lib/easy-format/easy_format.cmo: loaded\n",
      "/home/opam/.opam/4.04.1/lib/biniou: added to search path\n",
      "/home/opam/.opam/4.04.1/lib/biniou/biniou.cma: loaded\n",
      "/home/opam/.opam/4.04.1/lib/yojson: added to search path\n",
      "/home/opam/.opam/4.04.1/lib/yojson/yojson.cmo: loaded\n",
      "/home/opam/.opam/4.04.1/lib/bytes: added to search path\n",
      "/home/opam/.opam/4.04.1/lib/re: added to search path\n",
      "/home/opam/.opam/4.04.1/lib/re/re.cma: loaded\n",
      "/home/opam/.opam/4.04.1/lib/re/re_emacs.cma: loaded\n",
      "/home/opam/.opam/4.04.1/lib/stringext: added to search path\n",
      "/home/opam/.opam/4.04.1/lib/stringext/stringext.cma: loaded\n",
      "/home/opam/.opam/4.04.1/lib/re/re_posix.cma: loaded\n",
      "/home/opam/.opam/4.04.1/lib/ocaml/bigarray.cma: loaded\n",
      "/home/opam/.opam/4.04.1/lib/sexplib/0: added to search path\n",
      "/home/opam/.opam/4.04.1/lib/sexplib/0/sexplib0.cma: loaded\n",
      "/home/opam/.opam/4.04.1/lib/sexplib: added to search path\n",
      "/home/opam/.opam/4.04.1/lib/sexplib/sexplib.cma: loaded\n",
      "/home/opam/.opam/4.04.1/lib/uri: added to search path\n",
      "/home/opam/.opam/4.04.1/lib/uri/uri.cma: loaded\n",
      "/home/opam/.opam/4.04.1/lib/base/caml: added to search path\n",
      "/home/opam/.opam/4.04.1/lib/base/caml/caml.cma: loaded\n",
      "/home/opam/.opam/4.04.1/lib/base/shadow_stdlib: added to search path\n",
      "/home/opam/.opam/4.04.1/lib/base/shadow_stdlib/shadow_stdlib.cma: loaded\n",
      "/home/opam/.opam/4.04.1/lib/base: added to search path\n",
      "/home/opam/.opam/4.04.1/lib/base/base.cma: loaded\n",
      "/home/opam/.opam/4.04.1/lib/fieldslib: added to search path\n",
      "/home/opam/.opam/4.04.1/lib/fieldslib/fieldslib.cma: loaded\n",
      "/home/opam/.opam/4.04.1/lib/base64: added to search path\n",
      "/home/opam/.opam/4.04.1/lib/base64/base64.cma: loaded\n",
      "/home/opam/.opam/4.04.1/lib/cohttp: added to search path\n",
      "/home/opam/.opam/4.04.1/lib/cohttp/cohttp.cma: loaded\n",
      "/home/opam/.opam/4.04.1/lib/cohttp/cohttp_top.cma: loaded\n",
      "/home/opam/.opam/4.04.1/lib/uri/services.cma: loaded\n",
      "/home/opam/.opam/4.04.1/lib/ppx_compare/runtime-lib: added to search path\n",
      "/home/opam/.opam/4.04.1/lib/ppx_compare/runtime-lib/ppx_compare_lib.cma: loaded\n",
      "/home/opam/.opam/4.04.1/lib/variantslib: added to search path\n",
      "/home/opam/.opam/4.04.1/lib/variantslib/variantslib.cma: loaded\n",
      "/home/opam/.opam/4.04.1/lib/bin_prot/shape: added to search path\n",
      "/home/opam/.opam/4.04.1/lib/bin_prot/shape/bin_shape_lib.cma: loaded\n",
      "/home/opam/.opam/4.04.1/lib/bin_prot: added to search path\n",
      "/home/opam/.opam/4.04.1/lib/bin_prot/bin_prot.cma: loaded\n",
      "/home/opam/.opam/4.04.1/lib/ppx_hash/runtime-lib: added to search path\n",
      "/home/opam/.opam/4.04.1/lib/ppx_hash/runtime-lib/ppx_hash_lib.cma: loaded\n",
      "/home/opam/.opam/4.04.1/lib/ppx_inline_test/config: added to search path\n",
      "/home/opam/.opam/4.04.1/lib/ppx_inline_test/config/inline_test_config.cma: loaded\n",
      "/home/opam/.opam/4.04.1/lib/ppx_inline_test/runtime-lib: added to search path\n",
      "/home/opam/.opam/4.04.1/lib/ppx_inline_test/runtime-lib/ppx_inline_test_lib.cma: loaded\n",
      "/home/opam/.opam/4.04.1/lib/core_kernel/base_for_tests: added to search path\n",
      "/home/opam/.opam/4.04.1/lib/core_kernel/base_for_tests/base_for_tests.cma: loaded\n",
      "/home/opam/.opam/4.04.1/lib/jane-street-headers: added to search path\n",
      "/home/opam/.opam/4.04.1/lib/jane-street-headers/jane_street_headers.cma: loaded\n",
      "/home/opam/.opam/4.04.1/lib/ocaml/nums.cma: loaded\n",
      "/home/opam/.opam/4.04.1/lib/num-top: added to search path\n",
      "/home/opam/.opam/4.04.1/lib/num-top/num_top.cma: loaded\n",
      "/home/opam/.opam/4.04.1/lib/num: added to search path\n",
      "/home/opam/.opam/4.04.1/lib/ppx_assert/runtime-lib: added to search path\n",
      "/home/opam/.opam/4.04.1/lib/ppx_assert/runtime-lib/ppx_assert_lib.cma: loaded\n",
      "/home/opam/.opam/4.04.1/lib/ppx_bench/runtime-lib: added to search path\n",
      "/home/opam/.opam/4.04.1/lib/ppx_bench/runtime-lib/ppx_bench_lib.cma: loaded\n",
      "/home/opam/.opam/4.04.1/lib/ppx_expect/common: added to search path\n",
      "/home/opam/.opam/4.04.1/lib/ppx_expect/common/expect_test_common.cma: loaded\n",
      "/home/opam/.opam/4.04.1/lib/ppx_expect/config: added to search path\n",
      "/home/opam/.opam/4.04.1/lib/ppx_expect/config/expect_test_config.cma: loaded\n",
      "/home/opam/.opam/4.04.1/lib/ppx_expect/collector: added to search path\n",
      "/home/opam/.opam/4.04.1/lib/ppx_expect/collector/expect_test_collector.cma: loaded\n",
      "/home/opam/.opam/4.04.1/lib/stdio: added to search path\n",
      "/home/opam/.opam/4.04.1/lib/stdio/stdio.cma: loaded\n",
      "/home/opam/.opam/4.04.1/lib/typerep: added to search path\n",
      "/home/opam/.opam/4.04.1/lib/typerep/typerep_lib.cma: loaded\n",
      "/home/opam/.opam/4.04.1/lib/core_kernel: added to search path\n",
      "/home/opam/.opam/4.04.1/lib/core_kernel/core_kernel.cma: loaded\n",
      "/home/opam/.opam/4.04.1/lib/async_kernel: added to search path\n",
      "/home/opam/.opam/4.04.1/lib/async_kernel/async_kernel.cma: loaded\n",
      "/home/opam/.opam/4.04.1/lib/async_rpc_kernel: added to search path\n",
      "/home/opam/.opam/4.04.1/lib/async_rpc_kernel/async_rpc_kernel.cma: loaded\n",
      "/home/opam/.opam/4.04.1/lib/sexplib/unix: added to search path\n",
      "/home/opam/.opam/4.04.1/lib/sexplib/unix/sexplib_unix.cma: loaded\n",
      "/home/opam/.opam/4.04.1/lib/spawn: added to search path\n",
      "/home/opam/.opam/4.04.1/lib/spawn/spawn.cma: loaded\n",
      "/home/opam/.opam/4.04.1/lib/core: added to search path\n",
      "/home/opam/.opam/4.04.1/lib/core/core.cma: loaded\n",
      "/home/opam/.opam/4.04.1/lib/async_unix: added to search path\n",
      "/home/opam/.opam/4.04.1/lib/async_unix/async_unix.cma: loaded\n",
      "/home/opam/.opam/4.04.1/lib/async_extra: added to search path\n",
      "/home/opam/.opam/4.04.1/lib/async_extra/async_extra.cma: loaded\n",
      "/home/opam/.opam/4.04.1/lib/async: added to search path\n",
      "/home/opam/.opam/4.04.1/lib/async/async.cma: loaded\n",
      "/home/opam/.opam/4.04.1/lib/ipaddr: added to search path\n",
      "/home/opam/.opam/4.04.1/lib/ipaddr/ipaddr.cma: loaded\n",
      "/home/opam/.opam/4.04.1/lib/result: added to search path\n",
      "/home/opam/.opam/4.04.1/lib/result/result.cma: loaded\n",
      "/home/opam/.opam/4.04.1/lib/logs: added to search path\n",
      "/home/opam/.opam/4.04.1/lib/logs/logs.cma: loaded\n",
      "/home/opam/.opam/4.04.1/lib/conduit: added to search path\n",
      "/home/opam/.opam/4.04.1/lib/conduit/conduit.cma: loaded\n",
      "/home/opam/.opam/4.04.1/lib/ipaddr/ipaddr_unix.cma: loaded\n",
      "/home/opam/.opam/4.04.1/lib/conduit/conduit-async.cma: loaded\n",
      "/home/opam/.opam/4.04.1/lib/magic-mime: added to search path\n",
      "/home/opam/.opam/4.04.1/lib/magic-mime/magic_mime_library.cma: loaded\n",
      "/home/opam/.opam/4.04.1/lib/fmt: added to search path\n",
      "/home/opam/.opam/4.04.1/lib/fmt/fmt.cma: loaded\n",
      "/home/opam/.opam/4.04.1/lib/logs/logs_fmt.cma: loaded\n",
      "/home/opam/.opam/4.04.1/lib/fmt/fmt_tty.cma: loaded\n",
      "/home/opam/.opam/4.04.1/lib/cohttp/cohttp_async.cma: loaded\n"
     ]
    }
   ],
   "source": [
    "#thread ;;\n",
    "#require \"yojson\" ;;\n",
    "#require \"cohttp.top\" ;;\n",
    "#require \"cohttp.async\" ;;"
   ]
  },
  {
   "cell_type": "code",
   "execution_count": 2,
   "metadata": {},
   "outputs": [],
   "source": [
    "open Core ;;\n",
    "open Async ;;\n",
    "open Cohttp ;;\n",
    "open Cohttp_async ;;"
   ]
  },
  {
   "cell_type": "code",
   "execution_count": 3,
   "metadata": {},
   "outputs": [
    {
     "data": {
      "text/html": [
       "<pre style=\"color:slategray;max-height:100px;overflow:hidden\" \n",
       "onclick=\"\n",
       "if (this.style.maxHeight === 'none') \n",
       "    this.style.maxHeight = '100px';\n",
       "else\n",
       "    this.style.maxHeight = 'none'; \n",
       "\">- : Core.Thread.t = &lt;abstr&gt;\n",
       "</pre>"
      ]
     },
     "execution_count": 3,
     "metadata": {},
     "output_type": "execute_result"
    }
   ],
   "source": [
    "Thread.create (fun () -> never_returns (Scheduler.go ())) () ;; (* Start the Async scheduler. *)"
   ]
  },
  {
   "cell_type": "markdown",
   "metadata": {},
   "source": [
    "We obtain the meaning of a given query from the DuckDuckGo API server.\n",
    "\n",
    "[Yojson](https://github.com/mjambon/yojson) is a JSON serialization/deserialization library written in OCaml, and\n",
    "[Yojson.Basic.Util](https://mjambon.github.io/mjambon2016/yojson-doc/Yojson.Basic.Util.html) contains utilities for parsing a JSON."
   ]
  },
  {
   "cell_type": "code",
   "execution_count": 4,
   "metadata": {},
   "outputs": [
    {
     "data": {
      "text/html": [
       "<pre style=\"color:slategray;max-height:100px;overflow:hidden\" \n",
       "onclick=\"\n",
       "if (this.style.maxHeight === 'none') \n",
       "    this.style.maxHeight = '100px';\n",
       "else\n",
       "    this.style.maxHeight = 'none'; \n",
       "\">val search_query : string -&gt; string option Async_kernel__Deferred.t = &lt;fun&gt;\n",
       "</pre>"
      ]
     },
     "execution_count": 4,
     "metadata": {},
     "output_type": "execute_result"
    }
   ],
   "source": [
    "let search_query query =\n",
    "  let base_uri = Uri.of_string \"http://api.duckduckgo.com/?format=json\" in\n",
    "  let uri = Uri.add_query_param base_uri (\"q\", [query]) in\n",
    "  Client.get uri >>= fun (resp, body) -> (* GET contents from a given uri *)\n",
    "  assert (Response.status resp = `OK) ; (* Check HTTP response code *)\n",
    "  Body.to_string body >>| fun body -> (* Receive contents *)\n",
    "  let json = Yojson.Basic.from_string body in (* Parse a JSON *)\n",
    "  (* Find field \"Definition\" or \"Abstract\" in a JSON *)\n",
    "  let def = Yojson.Basic.Util.(json |> member \"Definition\" |> to_string_option) in\n",
    "  let abs = Yojson.Basic.Util.(json |> member \"Abstract\" |> to_string_option) in\n",
    "  match def with\n",
    "  | None | Some \"\" -> abs\n",
    "  | _ -> def"
   ]
  },
  {
   "cell_type": "markdown",
   "metadata": {},
   "source": [
    "`Thread_safe.block_on_async_exn` waits an Async instance and returns its result."
   ]
  },
  {
   "cell_type": "code",
   "execution_count": 5,
   "metadata": {},
   "outputs": [
    {
     "data": {
      "text/html": [
       "<pre style=\"color:slategray;max-height:100px;overflow:hidden\" \n",
       "onclick=\"\n",
       "if (this.style.maxHeight === 'none') \n",
       "    this.style.maxHeight = '100px';\n",
       "else\n",
       "    this.style.maxHeight = 'none'; \n",
       "\">- : string option =\n",
       "Some\n",
       " &quot;OCaml, originally named Objective Caml, is the main implementation of the programming language Caml, created by Xavier Leroy, J\\195\\169r\\195\\180me Vouillon, Damien Doligez, Didier R\\195\\169my, Asc\\195\\161nder Su\\195\\161rez and others in 1996. A member of the ML language family, OCaml extends the core Caml language with object-oriented programming constructs.&quot;\n",
       "</pre>"
      ]
     },
     "execution_count": 5,
     "metadata": {},
     "output_type": "execute_result"
    }
   ],
   "source": [
    "Thread_safe.block_on_async_exn (fun () -> search_query \"ocaml\") ;;"
   ]
  },
  {
   "cell_type": "code",
   "execution_count": null,
   "metadata": {
    "collapsed": true
   },
   "outputs": [],
   "source": []
  }
 ],
 "metadata": {
  "kernelspec": {
   "display_name": "OCaml 4.04.1",
   "language": "ocaml",
   "name": "iocaml-kernel"
  },
  "language_info": {
   "name": "ocaml",
   "version": "4.1.0"
  }
 },
 "nbformat": 4,
 "nbformat_minor": 2
}
