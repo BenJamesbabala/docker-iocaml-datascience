{
 "cells": [
  {
   "cell_type": "markdown",
   "metadata": {},
   "source": [
    "# animation\n",
    "\n",
    "This is a simple example of animation of jumping ball.\n",
    "The animation can be stopped by \"restart kernel\" button on the above menu."
   ]
  },
  {
   "cell_type": "code",
   "execution_count": 1,
   "metadata": {
    "scrolled": true
   },
   "outputs": [
    {
     "name": "stderr",
     "output_type": "stream",
     "text": [
      "/home/opam/.opam/4.04.1/lib/base/caml: added to search path\n",
      "/home/opam/.opam/4.04.1/lib/base/caml/caml.cma: loaded\n",
      "/home/opam/.opam/4.04.1/lib/base/shadow_stdlib: added to search path\n",
      "/home/opam/.opam/4.04.1/lib/base/shadow_stdlib/shadow_stdlib.cma: loaded\n",
      "/home/opam/.opam/4.04.1/lib/sexplib/0: added to search path\n",
      "/home/opam/.opam/4.04.1/lib/sexplib/0/sexplib0.cma: loaded\n",
      "/home/opam/.opam/4.04.1/lib/base: added to search path\n",
      "/home/opam/.opam/4.04.1/lib/base/base.cma: loaded\n",
      "/home/opam/.opam/4.04.1/lib/ocaml/unix.cma: loaded\n",
      "/home/opam/.opam/4.04.1/lib/ocaml/bigarray.cma: loaded\n",
      "/home/opam/.opam/4.04.1/lib/fieldslib: added to search path\n",
      "/home/opam/.opam/4.04.1/lib/fieldslib/fieldslib.cma: loaded\n",
      "/home/opam/.opam/4.04.1/lib/ppx_compare/runtime-lib: added to search path\n",
      "/home/opam/.opam/4.04.1/lib/ppx_compare/runtime-lib/ppx_compare_lib.cma: loaded\n",
      "/home/opam/.opam/4.04.1/lib/sexplib: added to search path\n",
      "/home/opam/.opam/4.04.1/lib/sexplib/sexplib.cma: loaded\n",
      "/home/opam/.opam/4.04.1/lib/variantslib: added to search path\n",
      "/home/opam/.opam/4.04.1/lib/variantslib/variantslib.cma: loaded\n",
      "/home/opam/.opam/4.04.1/lib/bin_prot/shape: added to search path\n",
      "/home/opam/.opam/4.04.1/lib/bin_prot/shape/bin_shape_lib.cma: loaded\n",
      "/home/opam/.opam/4.04.1/lib/bin_prot: added to search path\n",
      "/home/opam/.opam/4.04.1/lib/bin_prot/bin_prot.cma: loaded\n",
      "/home/opam/.opam/4.04.1/lib/ppx_hash/runtime-lib: added to search path\n",
      "/home/opam/.opam/4.04.1/lib/ppx_hash/runtime-lib/ppx_hash_lib.cma: loaded\n",
      "/home/opam/.opam/4.04.1/lib/ppx_inline_test/config: added to search path\n",
      "/home/opam/.opam/4.04.1/lib/ppx_inline_test/config/inline_test_config.cma: loaded\n",
      "/home/opam/.opam/4.04.1/lib/ppx_inline_test/runtime-lib: added to search path\n",
      "/home/opam/.opam/4.04.1/lib/ppx_inline_test/runtime-lib/ppx_inline_test_lib.cma: loaded\n",
      "/home/opam/.opam/4.04.1/lib/core_kernel/base_for_tests: added to search path\n",
      "/home/opam/.opam/4.04.1/lib/core_kernel/base_for_tests/base_for_tests.cma: loaded\n",
      "/home/opam/.opam/4.04.1/lib/jane-street-headers: added to search path\n",
      "/home/opam/.opam/4.04.1/lib/jane-street-headers/jane_street_headers.cma: loaded\n",
      "/home/opam/.opam/4.04.1/lib/ocaml/nums.cma: loaded\n",
      "/home/opam/.opam/4.04.1/lib/num-top: added to search path\n",
      "/home/opam/.opam/4.04.1/lib/num-top/num_top.cma: loaded\n",
      "/home/opam/.opam/4.04.1/lib/num: added to search path\n",
      "/home/opam/.opam/4.04.1/lib/ppx_assert/runtime-lib: added to search path\n",
      "/home/opam/.opam/4.04.1/lib/ppx_assert/runtime-lib/ppx_assert_lib.cma: loaded\n",
      "/home/opam/.opam/4.04.1/lib/ppx_bench/runtime-lib: added to search path\n",
      "/home/opam/.opam/4.04.1/lib/ppx_bench/runtime-lib/ppx_bench_lib.cma: loaded\n",
      "/home/opam/.opam/4.04.1/lib/ppx_expect/common: added to search path\n",
      "/home/opam/.opam/4.04.1/lib/ppx_expect/common/expect_test_common.cma: loaded\n",
      "/home/opam/.opam/4.04.1/lib/ppx_expect/config: added to search path\n",
      "/home/opam/.opam/4.04.1/lib/ppx_expect/config/expect_test_config.cma: loaded\n",
      "/home/opam/.opam/4.04.1/lib/ppx_expect/collector: added to search path\n",
      "/home/opam/.opam/4.04.1/lib/ppx_expect/collector/expect_test_collector.cma: loaded\n",
      "/home/opam/.opam/4.04.1/lib/stdio: added to search path\n",
      "/home/opam/.opam/4.04.1/lib/stdio/stdio.cma: loaded\n",
      "/home/opam/.opam/4.04.1/lib/typerep: added to search path\n",
      "/home/opam/.opam/4.04.1/lib/typerep/typerep_lib.cma: loaded\n",
      "/home/opam/.opam/4.04.1/lib/core_kernel: added to search path\n",
      "/home/opam/.opam/4.04.1/lib/core_kernel/core_kernel.cma: loaded\n",
      "/home/opam/.opam/4.04.1/lib/sexplib/unix: added to search path\n",
      "/home/opam/.opam/4.04.1/lib/sexplib/unix/sexplib_unix.cma: loaded\n",
      "/home/opam/.opam/4.04.1/lib/spawn: added to search path\n",
      "/home/opam/.opam/4.04.1/lib/spawn/spawn.cma: loaded\n",
      "/home/opam/.opam/4.04.1/lib/ocaml/threads: added to search path\n",
      "/home/opam/.opam/4.04.1/lib/core: added to search path\n",
      "/home/opam/.opam/4.04.1/lib/core/core.cma: loaded\n",
      "/home/opam/.opam/4.04.1/lib/async_kernel: added to search path\n",
      "/home/opam/.opam/4.04.1/lib/async_kernel/async_kernel.cma: loaded\n",
      "/home/opam/.opam/4.04.1/lib/async_rpc_kernel: added to search path\n",
      "/home/opam/.opam/4.04.1/lib/async_rpc_kernel/async_rpc_kernel.cma: loaded\n",
      "/home/opam/.opam/4.04.1/lib/async_unix: added to search path\n",
      "/home/opam/.opam/4.04.1/lib/async_unix/async_unix.cma: loaded\n",
      "/home/opam/.opam/4.04.1/lib/async_extra: added to search path\n",
      "/home/opam/.opam/4.04.1/lib/async_extra/async_extra.cma: loaded\n",
      "/home/opam/.opam/4.04.1/lib/async: added to search path\n",
      "/home/opam/.opam/4.04.1/lib/async/async.cma: loaded\n",
      "/home/opam/.opam/4.04.1/lib/cairo2: added to search path\n",
      "/home/opam/.opam/4.04.1/lib/cairo2/cairo2.cma: loaded\n",
      "/home/opam/.opam/4.04.1/lib/easy-format: added to search path\n",
      "/home/opam/.opam/4.04.1/lib/easy-format/easy_format.cmo: loaded\n",
      "/home/opam/.opam/4.04.1/lib/biniou: added to search path\n",
      "/home/opam/.opam/4.04.1/lib/biniou/biniou.cma: loaded\n",
      "/home/opam/.opam/4.04.1/lib/yojson: added to search path\n",
      "/home/opam/.opam/4.04.1/lib/yojson/yojson.cmo: loaded\n",
      "/home/opam/.opam/4.04.1/lib/ocaml/str.cma: loaded\n",
      "/home/opam/.opam/4.04.1/lib/atd: added to search path\n",
      "/home/opam/.opam/4.04.1/lib/atd/atd.cma: loaded\n",
      "/home/opam/.opam/4.04.1/lib/atdgen: added to search path\n",
      "/home/opam/.opam/4.04.1/lib/atdgen/atdgen.cma: loaded\n",
      "/home/opam/.opam/4.04.1/lib/bytes: added to search path\n",
      "/home/opam/.opam/4.04.1/lib/result: added to search path\n",
      "/home/opam/.opam/4.04.1/lib/result/result.cma: loaded\n",
      "/home/opam/.opam/4.04.1/lib/lwt: added to search path\n",
      "/home/opam/.opam/4.04.1/lib/lwt/lwt.cma: loaded\n",
      "/home/opam/.opam/4.04.1/lib/lwt/lwt-log.cma: loaded\n",
      "/home/opam/.opam/4.04.1/lib/lwt/lwt-unix.cma: loaded\n",
      "/home/opam/.opam/4.04.1/lib/integers: added to search path\n",
      "/home/opam/.opam/4.04.1/lib/integers/integers.cma: loaded\n",
      "/home/opam/.opam/4.04.1/lib/integers/integer_printers.cma: loaded\n",
      "/home/opam/.opam/4.04.1/lib/ctypes: added to search path\n",
      "/home/opam/.opam/4.04.1/lib/ctypes/ctypes.cma: loaded\n",
      "/home/opam/.opam/4.04.1/lib/ctypes/ctypes-top.cma: loaded\n",
      "/home/opam/.opam/4.04.1/lib/ctypes/ctypes-foreign-base.cma: loaded\n",
      "/home/opam/.opam/4.04.1/lib/ctypes/ctypes-foreign-unthreaded.cma: loaded\n",
      "/home/opam/.opam/4.04.1/lib/iocaml-kernel: added to search path\n",
      "/home/opam/.opam/4.04.1/lib/iocaml-kernel/iocaml_lib.cma: loaded\n"
     ]
    }
   ],
   "source": [
    "#require \"core\" ;;\n",
    "#require \"async\" ;;\n",
    "#require \"cairo2\" ;;\n",
    "#require \"iocaml-kernel\" ;;"
   ]
  },
  {
   "cell_type": "code",
   "execution_count": 2,
   "metadata": {
    "collapsed": true
   },
   "outputs": [],
   "source": [
    "open Core ;;\n",
    "open Async ;;"
   ]
  },
  {
   "cell_type": "code",
   "execution_count": 3,
   "metadata": {},
   "outputs": [
    {
     "data": {
      "text/html": [
       "<pre style=\"color:slategray;max-height:100px;overflow:hidden\" \n",
       "onclick=\"\n",
       "if (this.style.maxHeight === 'none') \n",
       "    this.style.maxHeight = '100px';\n",
       "else\n",
       "    this.style.maxHeight = 'none'; \n",
       "\">- : Core.Thread.t = &lt;abstr&gt;\n",
       "</pre>"
      ]
     },
     "execution_count": 3,
     "metadata": {},
     "output_type": "execute_result"
    }
   ],
   "source": [
    "Thread.create (fun () -> never_returns (Scheduler.go ())) () ;; (* Start the Async scheduler. *)"
   ]
  },
  {
   "cell_type": "code",
   "execution_count": 4,
   "metadata": {},
   "outputs": [
    {
     "data": {
      "image/png": "[encoded data removed]"
     },
     "metadata": {},
     "output_type": "display_data"
    }
   ],
   "source": [
    "let pi2 = 2.0 *. 3.14159265358979 ;;\n",
    "let w = 800. ;;\n",
    "let h = 400. ;;\n",
    "let r = 20.0 ;;\n",
    "let e = -0.9 ;;\n",
    "let g = 1.0 ;; (* gravity *)\n",
    "let m = 1.0 ;; (* mass *)\n",
    "\n",
    "let plot_ball ~context x y =\n",
    "  let surface = Cairo.Image.create Cairo.Image.ARGB32 ~width:800 ~height:400 in\n",
    "  let ctx = Cairo.create surface in\n",
    "  Cairo.arc ctx ~x ~y ~r ~a1:0.0 ~a2:pi2 ;\n",
    "  Cairo.fill ctx ;\n",
    "  Cairo.PNG.write_to_stream ~output:(Caml.output_string Iocaml.mime) surface  ;\n",
    "  Iocaml.send_clear ~context () ;\n",
    "  Iocaml.send_mime ~context ~base64:true \"image/png\"\n",
    ";;\n",
    "\n",
    "let context = Iocaml.cell_context() ;;\n",
    "let _ =\n",
    "  let rec aux x y vx vy () =\n",
    "    let x, vx = if x < 0.0 then (0.0, e *. vx) else if x > w then (w, e *. vx) else (x +. vx, vx) in\n",
    "    let y, vy = if y < 0.0 then (0.0, e *. vy) else if y > h then (h, e *. vy) else (y +. vy, vy +. m *. g) in\n",
    "    plot_ball ~context x y ;\n",
    "    Async.after (Time.Span.of_ms 10.0) >>= aux x y vx vy\n",
    "  in\n",
    "  aux 0.0 0.0 10.0 0.0 ()"
   ]
  },
  {
   "cell_type": "code",
   "execution_count": null,
   "metadata": {
    "collapsed": true
   },
   "outputs": [],
   "source": []
  }
 ],
 "metadata": {
  "kernelspec": {
   "display_name": "OCaml 4.04.1",
   "language": "ocaml",
   "name": "iocaml-kernel"
  },
  "language_info": {
   "name": "ocaml",
   "version": "4.1.0"
  }
 },
 "nbformat": 4,
 "nbformat_minor": 2
}
